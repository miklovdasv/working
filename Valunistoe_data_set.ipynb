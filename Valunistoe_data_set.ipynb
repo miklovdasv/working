{
 "cells": [
  {
   "cell_type": "markdown",
   "id": "d9a3fbb5",
   "metadata": {},
   "source": [
    "# Анализ EM кластеризации на 1 элемент"
   ]
  },
  {
   "cell_type": "markdown",
   "id": "b4013b53",
   "metadata": {},
   "source": [
    "## Загрузка"
   ]
  },
  {
   "cell_type": "code",
   "execution_count": 1,
   "id": "f97a7b00",
   "metadata": {
    "ExecuteTime": {
     "end_time": "2022-01-12T11:26:26.772533Z",
     "start_time": "2022-01-12T11:26:25.109893Z"
    }
   },
   "outputs": [],
   "source": [
    "%matplotlib inline\n",
    "from copy import deepcopy\n",
    "import numpy as np\n",
    "import pandas as pd\n",
    "from matplotlib import pyplot as plt\n",
    "plt.rcParams['figure.figsize'] = (16, 9)\n",
    "plt.style.use('ggplot')\n",
    "from mpl_toolkits.mplot3d import Axes3D\n",
    "\n",
    "from sklearn.cluster import KMeans\n",
    "from sklearn import metrics\n",
    "from sklearn import mixture\n",
    "from sklearn.mixture import GaussianMixture\n",
    "from sklearn.model_selection import train_test_split\n",
    "\n",
    "from scipy.cluster.hierarchy import *\n",
    "from scipy.spatial.distance import pdist\n",
    "from scipy.spatial.distance import cdist\n",
    "\n",
    "import seaborn as sns; sns.set()\n",
    "import h5py\n"
   ]
  },
  {
   "cell_type": "markdown",
   "id": "3ec15c70",
   "metadata": {},
   "source": [
    "## Рабочий датафрейм"
   ]
  },
  {
   "cell_type": "markdown",
   "id": "173f2e55",
   "metadata": {},
   "source": [
    "### Импорт из EXCEL"
   ]
  },
  {
   "cell_type": "code",
   "execution_count": 2,
   "id": "eaefc4da",
   "metadata": {
    "ExecuteTime": {
     "end_time": "2022-01-12T11:30:53.321081Z",
     "start_time": "2022-01-12T11:29:24.643082Z"
    }
   },
   "outputs": [
    {
     "data": {
      "text/html": [
       "<div>\n",
       "<style scoped>\n",
       "    .dataframe tbody tr th:only-of-type {\n",
       "        vertical-align: middle;\n",
       "    }\n",
       "\n",
       "    .dataframe tbody tr th {\n",
       "        vertical-align: top;\n",
       "    }\n",
       "\n",
       "    .dataframe thead th {\n",
       "        text-align: right;\n",
       "    }\n",
       "</style>\n",
       "<table border=\"1\" class=\"dataframe\">\n",
       "  <thead>\n",
       "    <tr style=\"text-align: right;\">\n",
       "      <th></th>\n",
       "      <th>id</th>\n",
       "      <th>Hole-ID</th>\n",
       "      <th>Sample</th>\n",
       "      <th>From</th>\n",
       "      <th>To</th>\n",
       "      <th>Au</th>\n",
       "      <th>Au_T</th>\n",
       "      <th>Au_T_revers</th>\n",
       "      <th>Ag</th>\n",
       "      <th>Ag_T</th>\n",
       "      <th>...</th>\n",
       "      <th>EM_3d(5_clusters)</th>\n",
       "      <th>EM_3d(15_clusters)</th>\n",
       "      <th>ORE</th>\n",
       "      <th>Xp</th>\n",
       "      <th>Yp</th>\n",
       "      <th>Zp</th>\n",
       "      <th>Elp</th>\n",
       "      <th>Elp_T</th>\n",
       "      <th>PCA1_w</th>\n",
       "      <th>PCA2_w</th>\n",
       "    </tr>\n",
       "  </thead>\n",
       "  <tbody>\n",
       "    <tr>\n",
       "      <th>0</th>\n",
       "      <td>1</td>\n",
       "      <td>00-1</td>\n",
       "      <td>101</td>\n",
       "      <td>9.5</td>\n",
       "      <td>10.0</td>\n",
       "      <td>0.1</td>\n",
       "      <td>-2.282</td>\n",
       "      <td>0.109</td>\n",
       "      <td>2.5</td>\n",
       "      <td>-0.290</td>\n",
       "      <td>...</td>\n",
       "      <td>2</td>\n",
       "      <td>3</td>\n",
       "      <td>0</td>\n",
       "      <td>0.9</td>\n",
       "      <td>0.586</td>\n",
       "      <td>0.887</td>\n",
       "      <td>0.294</td>\n",
       "      <td>-0.607362</td>\n",
       "      <td>-0.243305</td>\n",
       "      <td>-0.787627</td>\n",
       "    </tr>\n",
       "    <tr>\n",
       "      <th>1</th>\n",
       "      <td>2</td>\n",
       "      <td>00-1</td>\n",
       "      <td>102</td>\n",
       "      <td>10.0</td>\n",
       "      <td>11.0</td>\n",
       "      <td>4.5</td>\n",
       "      <td>1.902</td>\n",
       "      <td>4.496</td>\n",
       "      <td>91.5</td>\n",
       "      <td>1.943</td>\n",
       "      <td>...</td>\n",
       "      <td>2</td>\n",
       "      <td>3</td>\n",
       "      <td>1</td>\n",
       "      <td>0.9</td>\n",
       "      <td>0.586</td>\n",
       "      <td>0.887</td>\n",
       "      <td>0.580</td>\n",
       "      <td>1.479153</td>\n",
       "      <td>1.204270</td>\n",
       "      <td>-0.439757</td>\n",
       "    </tr>\n",
       "    <tr>\n",
       "      <th>2</th>\n",
       "      <td>3</td>\n",
       "      <td>00-1</td>\n",
       "      <td>103</td>\n",
       "      <td>11.0</td>\n",
       "      <td>12.0</td>\n",
       "      <td>5.0</td>\n",
       "      <td>1.929</td>\n",
       "      <td>5.002</td>\n",
       "      <td>74.2</td>\n",
       "      <td>1.839</td>\n",
       "      <td>...</td>\n",
       "      <td>2</td>\n",
       "      <td>3</td>\n",
       "      <td>1</td>\n",
       "      <td>0.9</td>\n",
       "      <td>0.586</td>\n",
       "      <td>0.886</td>\n",
       "      <td>0.587</td>\n",
       "      <td>1.526383</td>\n",
       "      <td>1.261401</td>\n",
       "      <td>-0.497378</td>\n",
       "    </tr>\n",
       "    <tr>\n",
       "      <th>3</th>\n",
       "      <td>4</td>\n",
       "      <td>00-1</td>\n",
       "      <td>104</td>\n",
       "      <td>12.0</td>\n",
       "      <td>13.0</td>\n",
       "      <td>2.1</td>\n",
       "      <td>-2.003</td>\n",
       "      <td>2.107</td>\n",
       "      <td>52.2</td>\n",
       "      <td>1.659</td>\n",
       "      <td>...</td>\n",
       "      <td>2</td>\n",
       "      <td>3</td>\n",
       "      <td>1</td>\n",
       "      <td>0.9</td>\n",
       "      <td>0.586</td>\n",
       "      <td>0.885</td>\n",
       "      <td>0.528</td>\n",
       "      <td>1.146982</td>\n",
       "      <td>0.788742</td>\n",
       "      <td>-0.025209</td>\n",
       "    </tr>\n",
       "    <tr>\n",
       "      <th>4</th>\n",
       "      <td>5</td>\n",
       "      <td>00-1</td>\n",
       "      <td>105</td>\n",
       "      <td>13.0</td>\n",
       "      <td>14.0</td>\n",
       "      <td>0.1</td>\n",
       "      <td>-2.282</td>\n",
       "      <td>0.109</td>\n",
       "      <td>2.5</td>\n",
       "      <td>-0.290</td>\n",
       "      <td>...</td>\n",
       "      <td>2</td>\n",
       "      <td>3</td>\n",
       "      <td>0</td>\n",
       "      <td>0.9</td>\n",
       "      <td>0.586</td>\n",
       "      <td>0.884</td>\n",
       "      <td>0.134</td>\n",
       "      <td>-1.998030</td>\n",
       "      <td>-0.244490</td>\n",
       "      <td>-0.786441</td>\n",
       "    </tr>\n",
       "  </tbody>\n",
       "</table>\n",
       "<p>5 rows × 32 columns</p>\n",
       "</div>"
      ],
      "text/plain": [
       "   id Hole-ID Sample  From    To   Au   Au_T  Au_T_revers    Ag   Ag_T  ...  \\\n",
       "0   1    00-1    101   9.5  10.0  0.1 -2.282        0.109   2.5 -0.290  ...   \n",
       "1   2    00-1    102  10.0  11.0  4.5  1.902        4.496  91.5  1.943  ...   \n",
       "2   3    00-1    103  11.0  12.0  5.0  1.929        5.002  74.2  1.839  ...   \n",
       "3   4    00-1    104  12.0  13.0  2.1 -2.003        2.107  52.2  1.659  ...   \n",
       "4   5    00-1    105  13.0  14.0  0.1 -2.282        0.109   2.5 -0.290  ...   \n",
       "\n",
       "   EM_3d(5_clusters)  EM_3d(15_clusters)  ORE   Xp     Yp     Zp    Elp  \\\n",
       "0                  2                   3    0  0.9  0.586  0.887  0.294   \n",
       "1                  2                   3    1  0.9  0.586  0.887  0.580   \n",
       "2                  2                   3    1  0.9  0.586  0.886  0.587   \n",
       "3                  2                   3    1  0.9  0.586  0.885  0.528   \n",
       "4                  2                   3    0  0.9  0.586  0.884  0.134   \n",
       "\n",
       "      Elp_T    PCA1_w    PCA2_w  \n",
       "0 -0.607362 -0.243305 -0.787627  \n",
       "1  1.479153  1.204270 -0.439757  \n",
       "2  1.526383  1.261401 -0.497378  \n",
       "3  1.146982  0.788742 -0.025209  \n",
       "4 -1.998030 -0.244490 -0.786441  \n",
       "\n",
       "[5 rows x 32 columns]"
      ]
     },
     "execution_count": 2,
     "metadata": {},
     "output_type": "execute_result"
    }
   ],
   "source": [
    "data_store0 = pd.read_excel(r'C:\\\\Users\\Sergey.Miklovda\\Desktop\\WORK_MATERIALS\\VAE\\VAE_2021\\DataSet_Valunistoe.XLSX')\n",
    "data_store0.head()"
   ]
  },
  {
   "cell_type": "markdown",
   "id": "2d02ef07",
   "metadata": {},
   "source": [
    "### Импорт из HDF5 файла"
   ]
  },
  {
   "cell_type": "code",
   "execution_count": 7,
   "id": "ee4a29f4",
   "metadata": {
    "ExecuteTime": {
     "end_time": "2022-01-12T06:40:29.428010Z",
     "start_time": "2022-01-12T06:40:29.422999Z"
    },
    "code_folding": []
   },
   "outputs": [
    {
     "name": "stdout",
     "output_type": "stream",
     "text": [
      "202110\n"
     ]
    }
   ],
   "source": [
    "# Подгружаем данные из файла h5\n",
    "Valunistoe_Store = pd.HDFStore(r'C:\\\\Users\\Sergey.Miklovda\\Desktop\\WORK_MATERIALS\\VAE\\VAE_2021\\Valunistoe_Store.h5')\n",
    "\n",
    "with h5py.File(Valunistoe_Store, 'r') as f:\n",
    "    for key in f.keys():\n",
    "        print(key)"
   ]
  },
  {
   "cell_type": "code",
   "execution_count": 8,
   "id": "9a36ea2f",
   "metadata": {
    "ExecuteTime": {
     "end_time": "2022-01-12T06:40:33.966548Z",
     "start_time": "2022-01-12T06:40:33.954218Z"
    },
    "code_folding": [
     0
    ],
    "collapsed": true
   },
   "outputs": [
    {
     "ename": "KeyError",
     "evalue": "'No object named 202110 in the file'",
     "output_type": "error",
     "traceback": [
      "\u001b[1;31m---------------------------------------------------------------------------\u001b[0m",
      "\u001b[1;31mKeyError\u001b[0m                                  Traceback (most recent call last)",
      "\u001b[1;32m<ipython-input-8-01bb34f88b02>\u001b[0m in \u001b[0;36m<module>\u001b[1;34m\u001b[0m\n\u001b[0;32m      1\u001b[0m \u001b[1;31m# Выводим данные из нужной таблицы в рабочий датафрейм\u001b[0m\u001b[1;33m\u001b[0m\u001b[1;33m\u001b[0m\u001b[1;33m\u001b[0m\u001b[0m\n\u001b[1;32m----> 2\u001b[1;33m \u001b[0mdata_store0\u001b[0m \u001b[1;33m=\u001b[0m \u001b[0mValunistoe_Store\u001b[0m\u001b[1;33m[\u001b[0m\u001b[1;34m'202110'\u001b[0m\u001b[1;33m]\u001b[0m\u001b[1;33m\u001b[0m\u001b[1;33m\u001b[0m\u001b[0m\n\u001b[0m\u001b[0;32m      3\u001b[0m \u001b[0mdata_store0\u001b[0m\u001b[1;33m.\u001b[0m\u001b[0mdescribe\u001b[0m\u001b[1;33m(\u001b[0m\u001b[1;33m)\u001b[0m\u001b[1;33m\u001b[0m\u001b[1;33m\u001b[0m\u001b[0m\n",
      "\u001b[1;32m~\\Anaconda3\\lib\\site-packages\\pandas\\io\\pytables.py\u001b[0m in \u001b[0;36m__getitem__\u001b[1;34m(self, key)\u001b[0m\n\u001b[0;32m    576\u001b[0m \u001b[1;33m\u001b[0m\u001b[0m\n\u001b[0;32m    577\u001b[0m     \u001b[1;32mdef\u001b[0m \u001b[0m__getitem__\u001b[0m\u001b[1;33m(\u001b[0m\u001b[0mself\u001b[0m\u001b[1;33m,\u001b[0m \u001b[0mkey\u001b[0m\u001b[1;33m:\u001b[0m \u001b[0mstr\u001b[0m\u001b[1;33m)\u001b[0m\u001b[1;33m:\u001b[0m\u001b[1;33m\u001b[0m\u001b[1;33m\u001b[0m\u001b[0m\n\u001b[1;32m--> 578\u001b[1;33m         \u001b[1;32mreturn\u001b[0m \u001b[0mself\u001b[0m\u001b[1;33m.\u001b[0m\u001b[0mget\u001b[0m\u001b[1;33m(\u001b[0m\u001b[0mkey\u001b[0m\u001b[1;33m)\u001b[0m\u001b[1;33m\u001b[0m\u001b[1;33m\u001b[0m\u001b[0m\n\u001b[0m\u001b[0;32m    579\u001b[0m \u001b[1;33m\u001b[0m\u001b[0m\n\u001b[0;32m    580\u001b[0m     \u001b[1;32mdef\u001b[0m \u001b[0m__setitem__\u001b[0m\u001b[1;33m(\u001b[0m\u001b[0mself\u001b[0m\u001b[1;33m,\u001b[0m \u001b[0mkey\u001b[0m\u001b[1;33m:\u001b[0m \u001b[0mstr\u001b[0m\u001b[1;33m,\u001b[0m \u001b[0mvalue\u001b[0m\u001b[1;33m)\u001b[0m\u001b[1;33m:\u001b[0m\u001b[1;33m\u001b[0m\u001b[1;33m\u001b[0m\u001b[0m\n",
      "\u001b[1;32m~\\Anaconda3\\lib\\site-packages\\pandas\\io\\pytables.py\u001b[0m in \u001b[0;36mget\u001b[1;34m(self, key)\u001b[0m\n\u001b[0;32m    767\u001b[0m             \u001b[0mgroup\u001b[0m \u001b[1;33m=\u001b[0m \u001b[0mself\u001b[0m\u001b[1;33m.\u001b[0m\u001b[0mget_node\u001b[0m\u001b[1;33m(\u001b[0m\u001b[0mkey\u001b[0m\u001b[1;33m)\u001b[0m\u001b[1;33m\u001b[0m\u001b[1;33m\u001b[0m\u001b[0m\n\u001b[0;32m    768\u001b[0m             \u001b[1;32mif\u001b[0m \u001b[0mgroup\u001b[0m \u001b[1;32mis\u001b[0m \u001b[1;32mNone\u001b[0m\u001b[1;33m:\u001b[0m\u001b[1;33m\u001b[0m\u001b[1;33m\u001b[0m\u001b[0m\n\u001b[1;32m--> 769\u001b[1;33m                 \u001b[1;32mraise\u001b[0m \u001b[0mKeyError\u001b[0m\u001b[1;33m(\u001b[0m\u001b[1;34mf\"No object named {key} in the file\"\u001b[0m\u001b[1;33m)\u001b[0m\u001b[1;33m\u001b[0m\u001b[1;33m\u001b[0m\u001b[0m\n\u001b[0m\u001b[0;32m    770\u001b[0m             \u001b[1;32mreturn\u001b[0m \u001b[0mself\u001b[0m\u001b[1;33m.\u001b[0m\u001b[0m_read_group\u001b[0m\u001b[1;33m(\u001b[0m\u001b[0mgroup\u001b[0m\u001b[1;33m)\u001b[0m\u001b[1;33m\u001b[0m\u001b[1;33m\u001b[0m\u001b[0m\n\u001b[0;32m    771\u001b[0m \u001b[1;33m\u001b[0m\u001b[0m\n",
      "\u001b[1;31mKeyError\u001b[0m: 'No object named 202110 in the file'"
     ]
    }
   ],
   "source": [
    "# Выводим данные из нужной таблицы в рабочий датафрейм\n",
    "data_store0 = Valunistoe_Store['202110']\n",
    "data_store0.describe()"
   ]
  },
  {
   "cell_type": "code",
   "execution_count": null,
   "id": "e428d013",
   "metadata": {
    "code_folding": [
     0
    ]
   },
   "outputs": [],
   "source": [
    "# Один раз!____________________________________________________\n",
    "# Создаем файл HDF5____________________________________________\n",
    "#Valunistoe_Store = pd.HDFStore(r'C:\\\\Users\\Sergey.Miklovda\\Desktop\\WORK_MATERIALS\\VAE\\VAE_2021\\Valunistoe_Store.h5')\n",
    "\n",
    "# по необходимости______________________________________________\n",
    "# Создаем копию датафрейма для занесения в отдельную таблицу hdf5___________\n",
    "#Valunistoe_202110 = data_store0.copy()\n",
    "# Записываем в файл HDF5 данные из датафрейма________________\n",
    "#Valunistoe_Store['202110'] = Valunistoe_202110 # сохранение произошло таблицу с выбранными данными"
   ]
  },
  {
   "cell_type": "code",
   "execution_count": 9,
   "id": "7fa34aa6",
   "metadata": {
    "ExecuteTime": {
     "end_time": "2022-01-12T06:40:58.445120Z",
     "start_time": "2022-01-12T06:40:58.440157Z"
    },
    "code_folding": [],
    "scrolled": true
   },
   "outputs": [
    {
     "data": {
      "text/plain": [
       "Index(['id', 'Hole-ID', 'Sample', 'From', 'To', 'Au', 'Au_T', 'Au_T_revers',\n",
       "       'Ag', 'Ag_T', 'X', 'Y', 'Z', 'Lit', 'Min', 'Tect', 'Type', 'Au_rand',\n",
       "       'Au_rand_T', 'Au_rand_T_revers', 'EM_cluster', 'EM_2d(7_clusters)',\n",
       "       'EM_3d(5_clusters)', 'EM_3d(15_clusters)', 'ORE', 'Xp', 'Yp', 'Zp',\n",
       "       'Elp', 'Elp_T', 'PCA1_w', 'PCA2_w'],\n",
       "      dtype='object')"
      ]
     },
     "execution_count": 9,
     "metadata": {},
     "output_type": "execute_result"
    }
   ],
   "source": [
    "# список столбцов.\n",
    "data_columns = data_store0.columns # список столбцов\n",
    "data_columns"
   ]
  },
  {
   "cell_type": "markdown",
   "id": "a4615738",
   "metadata": {},
   "source": [
    "### Дата фрейм для расчетов по одному элементу"
   ]
  },
  {
   "cell_type": "code",
   "execution_count": 10,
   "id": "283df2a2",
   "metadata": {
    "ExecuteTime": {
     "end_time": "2022-01-12T06:41:05.793584Z",
     "start_time": "2022-01-12T06:41:05.775973Z"
    },
    "code_folding": []
   },
   "outputs": [
    {
     "data": {
      "text/html": [
       "<div>\n",
       "<style scoped>\n",
       "    .dataframe tbody tr th:only-of-type {\n",
       "        vertical-align: middle;\n",
       "    }\n",
       "\n",
       "    .dataframe tbody tr th {\n",
       "        vertical-align: top;\n",
       "    }\n",
       "\n",
       "    .dataframe thead th {\n",
       "        text-align: right;\n",
       "    }\n",
       "</style>\n",
       "<table border=\"1\" class=\"dataframe\">\n",
       "  <thead>\n",
       "    <tr style=\"text-align: right;\">\n",
       "      <th></th>\n",
       "      <th>Hole-ID</th>\n",
       "      <th>Sample</th>\n",
       "      <th>From</th>\n",
       "      <th>To</th>\n",
       "      <th>Au</th>\n",
       "      <th>Au_rand</th>\n",
       "    </tr>\n",
       "  </thead>\n",
       "  <tbody>\n",
       "    <tr>\n",
       "      <th>0</th>\n",
       "      <td>00-1</td>\n",
       "      <td>101</td>\n",
       "      <td>9.5</td>\n",
       "      <td>10.0</td>\n",
       "      <td>0.1</td>\n",
       "      <td>0.071</td>\n",
       "    </tr>\n",
       "    <tr>\n",
       "      <th>1</th>\n",
       "      <td>00-1</td>\n",
       "      <td>102</td>\n",
       "      <td>10.0</td>\n",
       "      <td>11.0</td>\n",
       "      <td>4.5</td>\n",
       "      <td>4.500</td>\n",
       "    </tr>\n",
       "    <tr>\n",
       "      <th>2</th>\n",
       "      <td>00-1</td>\n",
       "      <td>103</td>\n",
       "      <td>11.0</td>\n",
       "      <td>12.0</td>\n",
       "      <td>5.0</td>\n",
       "      <td>5.000</td>\n",
       "    </tr>\n",
       "  </tbody>\n",
       "</table>\n",
       "</div>"
      ],
      "text/plain": [
       "  Hole-ID Sample  From    To   Au  Au_rand\n",
       "0    00-1    101   9.5  10.0  0.1    0.071\n",
       "1    00-1    102  10.0  11.0  4.5    4.500\n",
       "2    00-1    103  11.0  12.0  5.0    5.000"
      ]
     },
     "execution_count": 10,
     "metadata": {},
     "output_type": "execute_result"
    }
   ],
   "source": [
    "#__________Выбираем столбцы для работы__________________\n",
    "data_store = data_store0[['Hole-ID', 'Sample', 'From', 'To', 'Au','Au_rand']]\n",
    "data_store[:3]"
   ]
  },
  {
   "cell_type": "code",
   "execution_count": 11,
   "id": "b380b538",
   "metadata": {
    "ExecuteTime": {
     "end_time": "2022-01-12T06:41:10.303310Z",
     "start_time": "2022-01-12T06:41:10.258386Z"
    }
   },
   "outputs": [
    {
     "name": "stdout",
     "output_type": "stream",
     "text": [
      "<class 'pandas.core.frame.DataFrame'>\n",
      "RangeIndex: 184303 entries, 0 to 184302\n",
      "Data columns (total 6 columns):\n",
      " #   Column   Non-Null Count   Dtype  \n",
      "---  ------   --------------   -----  \n",
      " 0   Hole-ID  184303 non-null  object \n",
      " 1   Sample   184278 non-null  object \n",
      " 2   From     184303 non-null  float64\n",
      " 3   To       184303 non-null  float64\n",
      " 4   Au       184303 non-null  float64\n",
      " 5   Au_rand  184303 non-null  float64\n",
      "dtypes: float64(4), object(2)\n",
      "memory usage: 8.4+ MB\n"
     ]
    }
   ],
   "source": [
    "data_store.info()"
   ]
  },
  {
   "cell_type": "markdown",
   "id": "a5a88d9f",
   "metadata": {},
   "source": [
    "### Преобразование форматов и очистка выпадающих значений"
   ]
  },
  {
   "cell_type": "code",
   "execution_count": 12,
   "id": "ed28d38d",
   "metadata": {
    "ExecuteTime": {
     "end_time": "2022-01-12T06:41:19.470457Z",
     "start_time": "2022-01-12T06:41:19.431393Z"
    },
    "code_folding": []
   },
   "outputs": [
    {
     "name": "stdout",
     "output_type": "stream",
     "text": [
      "<class 'pandas.core.frame.DataFrame'>\n",
      "RangeIndex: 184303 entries, 0 to 184302\n",
      "Data columns (total 6 columns):\n",
      " #   Column   Non-Null Count   Dtype  \n",
      "---  ------   --------------   -----  \n",
      " 0   Hole-ID  184303 non-null  object \n",
      " 1   Sample   184278 non-null  object \n",
      " 2   From     184303 non-null  float32\n",
      " 3   To       184303 non-null  float32\n",
      " 4   Au       184303 non-null  float32\n",
      " 5   Au_rand  184303 non-null  float32\n",
      "dtypes: float32(4), object(2)\n",
      "memory usage: 5.6+ MB\n"
     ]
    },
    {
     "name": "stderr",
     "output_type": "stream",
     "text": [
      "<ipython-input-12-5e974b3063b0>:4: SettingWithCopyWarning: \n",
      "A value is trying to be set on a copy of a slice from a DataFrame.\n",
      "Try using .loc[row_indexer,col_indexer] = value instead\n",
      "\n",
      "See the caveats in the documentation: https://pandas.pydata.org/pandas-docs/stable/user_guide/indexing.html#returning-a-view-versus-a-copy\n",
      "  data_store[i]= data_store[i].astype('float32')\n"
     ]
    }
   ],
   "source": [
    "\n",
    "# Преобразуем формат float\n",
    "for i in data_store.columns:\n",
    "    if(data_store[i].dtype == 'float64' or data_store[i].dtype == 'int64'):\n",
    "        data_store[i]= data_store[i].astype('float32')\n",
    "        \n",
    "data_store.info()"
   ]
  },
  {
   "cell_type": "markdown",
   "id": "45f7a275",
   "metadata": {},
   "source": [
    "### Ураганы"
   ]
  },
  {
   "cell_type": "code",
   "execution_count": null,
   "id": "e84f942b",
   "metadata": {
    "code_folding": [
     0
    ]
   },
   "outputs": [],
   "source": [
    "# УРАГАНЫ\n",
    "for i in range(0, len(data_store)):\n",
    "    if data_store['Au'][i] > 950: #75.93\n",
    "        data_store['Au'][i] = 950\n",
    "    #if data_store['Ag'][i] > 627:\n",
    "        #data_store['Ag'][i] = 627\n",
    "    #if data_store['Pb'][i] > 20.04:\n",
    "        #data_store['Pb'][i] = 20.04\n",
    "    #if data_store['Zn'][i] > 20.72:\n",
    "        #data_store['Zn'][i] = 20.72       \n",
    "        #print(data['Au'][i])\n",
    "\n",
    "data_store.describe()   "
   ]
  },
  {
   "cell_type": "markdown",
   "id": "7764947e",
   "metadata": {},
   "source": [
    "## Определяем базовый элемент"
   ]
  },
  {
   "cell_type": "code",
   "execution_count": 13,
   "id": "2c11023c",
   "metadata": {
    "ExecuteTime": {
     "end_time": "2022-01-12T06:41:49.679384Z",
     "start_time": "2022-01-12T06:41:48.740312Z"
    },
    "scrolled": true
   },
   "outputs": [
    {
     "data": {
      "text/plain": [
       "(array([1.82252e+05, 1.15100e+03, 3.18000e+02, 1.67000e+02, 1.15000e+02,\n",
       "        5.30000e+01, 4.60000e+01, 3.30000e+01, 2.90000e+01, 2.00000e+01,\n",
       "        1.30000e+01, 1.00000e+01, 6.00000e+00, 1.40000e+01, 6.00000e+00,\n",
       "        2.00000e+00, 6.00000e+00, 8.00000e+00, 5.00000e+00, 8.00000e+00,\n",
       "        1.00000e+00, 3.00000e+00, 3.00000e+00, 2.00000e+00, 1.00000e+00,\n",
       "        0.00000e+00, 3.00000e+00, 0.00000e+00, 1.00000e+00, 2.00000e+00,\n",
       "        0.00000e+00, 1.00000e+00, 1.00000e+00, 1.00000e+00, 1.00000e+00,\n",
       "        3.00000e+00, 1.00000e+00, 1.00000e+00, 2.00000e+00, 0.00000e+00,\n",
       "        0.00000e+00, 1.00000e+00, 0.00000e+00, 0.00000e+00, 0.00000e+00,\n",
       "        1.00000e+00, 0.00000e+00, 0.00000e+00, 2.00000e+00, 4.00000e+00,\n",
       "        0.00000e+00, 0.00000e+00, 0.00000e+00, 0.00000e+00, 2.00000e+00,\n",
       "        0.00000e+00, 0.00000e+00, 0.00000e+00, 0.00000e+00, 0.00000e+00,\n",
       "        0.00000e+00, 0.00000e+00, 0.00000e+00, 0.00000e+00, 0.00000e+00,\n",
       "        0.00000e+00, 0.00000e+00, 0.00000e+00, 0.00000e+00, 0.00000e+00,\n",
       "        0.00000e+00, 0.00000e+00, 0.00000e+00, 0.00000e+00, 0.00000e+00,\n",
       "        0.00000e+00, 0.00000e+00, 0.00000e+00, 0.00000e+00, 0.00000e+00,\n",
       "        0.00000e+00, 0.00000e+00, 0.00000e+00, 0.00000e+00, 0.00000e+00,\n",
       "        1.00000e+00, 0.00000e+00, 0.00000e+00, 0.00000e+00, 0.00000e+00,\n",
       "        0.00000e+00, 1.00000e+00, 0.00000e+00, 0.00000e+00, 0.00000e+00,\n",
       "        0.00000e+00, 0.00000e+00, 0.00000e+00, 0.00000e+00, 2.00000e+00]),\n",
       " array([1.0000000e-03, 2.0000990e+01, 4.0000980e+01, 6.0000969e+01,\n",
       "        8.0000961e+01, 1.0000095e+02, 1.2000094e+02, 1.4000093e+02,\n",
       "        1.6000092e+02, 1.8000092e+02, 2.0000090e+02, 2.2000089e+02,\n",
       "        2.4000089e+02, 2.6000089e+02, 2.8000085e+02, 3.0000085e+02,\n",
       "        3.2000085e+02, 3.4000082e+02, 3.6000082e+02, 3.8000082e+02,\n",
       "        4.0000079e+02, 4.2000079e+02, 4.4000079e+02, 4.6000076e+02,\n",
       "        4.8000076e+02, 5.0000076e+02, 5.2000073e+02, 5.4000073e+02,\n",
       "        5.6000073e+02, 5.8000073e+02, 6.0000067e+02, 6.2000067e+02,\n",
       "        6.4000067e+02, 6.6000067e+02, 6.8000067e+02, 7.0000067e+02,\n",
       "        7.2000061e+02, 7.4000061e+02, 7.6000061e+02, 7.8000061e+02,\n",
       "        8.0000061e+02, 8.2000061e+02, 8.4000061e+02, 8.6000055e+02,\n",
       "        8.8000055e+02, 9.0000055e+02, 9.2000055e+02, 9.4000055e+02,\n",
       "        9.6000055e+02, 9.8000049e+02, 1.0000005e+03, 1.0200005e+03,\n",
       "        1.0400005e+03, 1.0600005e+03, 1.0800005e+03, 1.1000005e+03,\n",
       "        1.1200005e+03, 1.1400005e+03, 1.1600004e+03, 1.1800004e+03,\n",
       "        1.2000004e+03, 1.2200004e+03, 1.2400004e+03, 1.2600004e+03,\n",
       "        1.2800004e+03, 1.3000004e+03, 1.3200004e+03, 1.3400004e+03,\n",
       "        1.3600004e+03, 1.3800004e+03, 1.4000002e+03, 1.4200002e+03,\n",
       "        1.4400002e+03, 1.4600002e+03, 1.4800002e+03, 1.5000002e+03,\n",
       "        1.5200002e+03, 1.5400002e+03, 1.5600002e+03, 1.5800002e+03,\n",
       "        1.6000002e+03, 1.6200002e+03, 1.6400001e+03, 1.6600001e+03,\n",
       "        1.6800001e+03, 1.7000001e+03, 1.7200001e+03, 1.7400001e+03,\n",
       "        1.7600001e+03, 1.7800001e+03, 1.8000001e+03, 1.8200001e+03,\n",
       "        1.8400001e+03, 1.8600001e+03, 1.8800000e+03, 1.9000000e+03,\n",
       "        1.9200000e+03, 1.9400000e+03, 1.9600000e+03, 1.9800000e+03,\n",
       "        2.0000000e+03], dtype=float32),\n",
       " <BarContainer object of 100 artists>)"
      ]
     },
     "execution_count": 13,
     "metadata": {},
     "output_type": "execute_result"
    },
    {
     "data": {
      "image/png": "[encoded data removed]",
      "text/plain": [
       "<Figure size 1152x648 with 1 Axes>"
      ]
     },
     "metadata": {},
     "output_type": "display_data"
    }
   ],
   "source": [
    "el = 'Au_rand'\n",
    "#data_store[el].describe()\n",
    "X= data_store[el].dropna()\n",
    "plt.yscale('log')\n",
    "\n",
    "kwargs = dict(histtype= 'bar', alpha=0.3,  bins=100) #normed= True,\n",
    "plt.hist(X, **kwargs) #np.log(X)"
   ]
  },
  {
   "cell_type": "markdown",
   "id": "7c1219c2",
   "metadata": {},
   "source": [
    "### Ограничение выдающихся значения по базовому элементу"
   ]
  },
  {
   "cell_type": "markdown",
   "id": "08411e92",
   "metadata": {},
   "source": [
    "#### Создание словаря количества встречаемости значений элемента"
   ]
  },
  {
   "cell_type": "code",
   "execution_count": 19,
   "id": "3394f21b",
   "metadata": {
    "ExecuteTime": {
     "end_time": "2022-01-12T06:46:30.853954Z",
     "start_time": "2022-01-12T06:46:30.850947Z"
    },
    "code_folding": []
   },
   "outputs": [],
   "source": [
    "# ____ОПРЕДЕЛЯЕМ УРОВНИ ДЛЯ ОЧИСТКИ ВЫБОРКИ___________\n",
    "# Вычисляем количество уникальных записей по столбцам\n",
    "# Одновременно создаем ДатаФреймы из этих записей"
   ]
  },
  {
   "cell_type": "code",
   "execution_count": 20,
   "id": "a53ececf",
   "metadata": {
    "ExecuteTime": {
     "end_time": "2022-01-12T06:46:35.984238Z",
     "start_time": "2022-01-12T06:46:35.851215Z"
    },
    "code_folding": [
     0
    ]
   },
   "outputs": [
    {
     "name": "stdout",
     "output_type": "stream",
     "text": [
      "[('0.120', 2828), ('0.110', 2822), ('0.130', 2421), ('0.140', 2401), ('0.250', 2341)]\n"
     ]
    },
    {
     "name": "stderr",
     "output_type": "stream",
     "text": [
      "<ipython-input-20-2f9c6f3337ac>:4: SettingWithCopyWarning: \n",
      "A value is trying to be set on a copy of a slice from a DataFrame.\n",
      "Try using .loc[row_indexer,col_indexer] = value instead\n",
      "\n",
      "See the caveats in the documentation: https://pandas.pydata.org/pandas-docs/stable/user_guide/indexing.html#returning-a-view-versus-a-copy\n",
      "  data_store[el] =  pd.to_numeric((data_store[el]), errors='coerce').map('{:,.3f}'.format)# Преоразование в numeric!\n"
     ]
    }
   ],
   "source": [
    "# Создание словаря количества встречаемости значений элемента\n",
    "\n",
    "counter = {}\n",
    "data_store[el] =  pd.to_numeric((data_store[el]), errors='coerce').map('{:,.3f}'.format)# Преоразование в numeric!\n",
    "for key in data_store[el].tolist():\n",
    "    counter[key] = counter.setdefault(key,0) + 1\n",
    "\n",
    "#sorted_tuple = sorted(counter.items(), key=lambda x: x[0]) # Сортировка по ключу\n",
    "sorted_tuple = sorted(counter.items(), key=lambda x: -x[1]) # Сортировка по значению в обратном направлении\n",
    "print(sorted_tuple[:5])\n",
    "#print(type(counter[key]), type(counter), type(counter.items()), type(sorted_tuple))\n",
    "#print(sorted_tuple[0][0],sorted_tuple[0][1] )"
   ]
  },
  {
   "cell_type": "markdown",
   "id": "82ea99c1",
   "metadata": {},
   "source": [
    "#### Очистка значений 'nan' с созданием  датафрейма с одной колонкой"
   ]
  },
  {
   "cell_type": "code",
   "execution_count": 21,
   "id": "97c892ed",
   "metadata": {
    "ExecuteTime": {
     "end_time": "2022-01-12T06:47:11.842922Z",
     "start_time": "2022-01-12T06:47:10.220658Z"
    },
    "code_folding": []
   },
   "outputs": [
    {
     "name": "stderr",
     "output_type": "stream",
     "text": [
      "<ipython-input-21-42f5d710ea38>:3: SettingWithCopyWarning: \n",
      "A value is trying to be set on a copy of a slice from a DataFrame.\n",
      "Try using .loc[row_indexer,col_indexer] = value instead\n",
      "\n",
      "See the caveats in the documentation: https://pandas.pydata.org/pandas-docs/stable/user_guide/indexing.html#returning-a-view-versus-a-copy\n",
      "  data_store[el] =  pd.to_numeric((data_store[el]), errors='coerce').map('{:,.3f}'.format)# Преоразование в numeric!\n"
     ]
    },
    {
     "name": "stdout",
     "output_type": "stream",
     "text": [
      "0    0.071\n",
      "1    4.500\n",
      "2    5.000\n",
      "dtype: object\n",
      "Урезанных значений -  184294    Значений   'nan' - 9\n",
      "Всего:  184303\n"
     ]
    }
   ],
   "source": [
    "store_nan_out = []\n",
    "count_nan = []\n",
    "data_store[el] =  pd.to_numeric((data_store[el]), errors='coerce').map('{:,.3f}'.format)# Преоразование в numeric!\n",
    "for i in range(0, len(data_store[el])):\n",
    "    if data_store[el][i] != 'nan':\n",
    "        store_nan_out.append(data_store[el][i])\n",
    "    else:\n",
    "        count_nan.append(data_store[el][i])\n",
    "new_store = pd.Series(store_nan_out)\n",
    "print(new_store.head(3))\n",
    "print(\"Урезанных значений - \",len(store_nan_out), \"   Значений \", \" 'nan'\", \"-\", len(count_nan)) \n",
    "print(\"Всего: \", len(store_nan_out) + len(count_nan))\n",
    "#print(\"Тип data_store[el] - \", type(data_store[el]))\n",
    "#print(\"Тип store_nan_out -\", type(store_nan_out))\n",
    "#print(\"Тип new_store -\", type(new_store))\n",
    "#print(\"Тип new_store.dtypes -\",new_store.dtypes)"
   ]
  },
  {
   "cell_type": "markdown",
   "id": "6a7c4925",
   "metadata": {},
   "source": [
    "#### Очистка значений 'nan' в исходном датафреейме с одним элементом"
   ]
  },
  {
   "cell_type": "code",
   "execution_count": 22,
   "id": "2c524982",
   "metadata": {
    "ExecuteTime": {
     "end_time": "2022-01-12T06:48:00.072086Z",
     "start_time": "2022-01-12T06:47:59.997191Z"
    }
   },
   "outputs": [
    {
     "name": "stdout",
     "output_type": "stream",
     "text": [
      "  Hole-ID Sample  From    To   Au Au_rand\n",
      "0    00-1    101   9.5  10.0  0.1   0.071\n",
      "1    00-1    102  10.0  11.0  4.5   4.500\n",
      "2    00-1    103  11.0  12.0  5.0   5.000\n",
      "184294\n"
     ]
    }
   ],
   "source": [
    "\n",
    "data_store_not_nan= data_store[data_store.Au_rand !='nan'][['Hole-ID', 'Sample', 'From', 'To', 'Au','Au_rand']]\n",
    "print(data_store_not_nan.head(3))\n",
    "print(len(data_store_not_nan))"
   ]
  },
  {
   "cell_type": "code",
   "execution_count": 23,
   "id": "d8f17bc2",
   "metadata": {
    "ExecuteTime": {
     "end_time": "2022-01-12T06:48:09.536096Z",
     "start_time": "2022-01-12T06:48:09.499642Z"
    }
   },
   "outputs": [
    {
     "name": "stdout",
     "output_type": "stream",
     "text": [
      "<class 'pandas.core.frame.DataFrame'>\n",
      "Int64Index: 184294 entries, 0 to 184302\n",
      "Data columns (total 6 columns):\n",
      " #   Column   Non-Null Count   Dtype  \n",
      "---  ------   --------------   -----  \n",
      " 0   Hole-ID  184294 non-null  object \n",
      " 1   Sample   184269 non-null  object \n",
      " 2   From     184294 non-null  float32\n",
      " 3   To       184294 non-null  float32\n",
      " 4   Au       184294 non-null  float32\n",
      " 5   Au_rand  184294 non-null  object \n",
      "dtypes: float32(3), object(3)\n",
      "memory usage: 7.7+ MB\n"
     ]
    }
   ],
   "source": [
    "data_store_not_nan.info()"
   ]
  },
  {
   "cell_type": "markdown",
   "id": "eb012705",
   "metadata": {},
   "source": [
    "#### График логарифмированных значений (без 'nan')"
   ]
  },
  {
   "cell_type": "code",
   "execution_count": 24,
   "id": "dfc96c61",
   "metadata": {
    "ExecuteTime": {
     "end_time": "2022-01-12T06:48:19.748943Z",
     "start_time": "2022-01-12T06:48:19.438914Z"
    },
    "scrolled": true
   },
   "outputs": [
    {
     "data": {
      "text/plain": [
       "(array([184294.]),\n",
       " array([-6.90775528,  6.90070045]),\n",
       " <BarContainer object of 1 artists>)"
      ]
     },
     "execution_count": 24,
     "metadata": {},
     "output_type": "execute_result"
    },
    {
     "data": {
      "image/png": "[encoded data removed]",
      "text/plain": [
       "<Figure size 1152x648 with 1 Axes>"
      ]
     },
     "metadata": {},
     "output_type": "display_data"
    }
   ],
   "source": [
    "X = pd.to_numeric(new_store)\n",
    "plt.yscale('log')\n",
    "kwargs = dict(histtype= 'bar', alpha=0.3,  bins=1) #normed= True,\n",
    "plt.hist(np.log(X), **kwargs) #np.log(X)"
   ]
  },
  {
   "cell_type": "code",
   "execution_count": 25,
   "id": "8b9cfcc4",
   "metadata": {
    "ExecuteTime": {
     "end_time": "2022-01-12T06:48:29.663978Z",
     "start_time": "2022-01-12T06:48:29.414348Z"
    }
   },
   "outputs": [
    {
     "data": {
      "text/plain": [
       "(array([3.5300e+02, 0.0000e+00, 7.2700e+02, 7.0100e+02, 0.0000e+00,\n",
       "        1.3910e+03, 6.9800e+02, 2.0960e+03, 2.2820e+03, 2.0250e+03,\n",
       "        3.4670e+03, 5.0420e+03, 6.2550e+03, 7.6730e+03, 1.0581e+04,\n",
       "        1.4018e+04, 1.1528e+04, 1.0472e+04, 1.1357e+04, 1.0230e+04,\n",
       "        1.5483e+04, 8.7050e+03, 6.9780e+03, 6.3010e+03, 5.8730e+03,\n",
       "        5.5100e+03, 5.4100e+03, 5.0080e+03, 4.6220e+03, 4.3980e+03,\n",
       "        3.8190e+03, 3.1040e+03, 2.4640e+03, 1.7750e+03, 1.2040e+03,\n",
       "        7.9400e+02, 5.5500e+02, 3.9000e+02, 2.7300e+02, 1.8500e+02,\n",
       "        1.6100e+02, 1.2000e+02, 8.0000e+01, 6.7000e+01, 3.5000e+01,\n",
       "        2.9000e+01, 2.6000e+01, 1.1000e+01, 1.1000e+01, 7.0000e+00]),\n",
       " array([-6.90775528e+00, -6.63158616e+00, -6.35541705e+00, -6.07924794e+00,\n",
       "        -5.80307882e+00, -5.52690971e+00, -5.25074059e+00, -4.97457148e+00,\n",
       "        -4.69840236e+00, -4.42223325e+00, -4.14606413e+00, -3.86989502e+00,\n",
       "        -3.59372590e+00, -3.31755679e+00, -3.04138767e+00, -2.76521856e+00,\n",
       "        -2.48904945e+00, -2.21288033e+00, -1.93671122e+00, -1.66054210e+00,\n",
       "        -1.38437299e+00, -1.10820387e+00, -8.32034757e-01, -5.55865643e-01,\n",
       "        -2.79696528e-01, -3.52741344e-03,  2.72641701e-01,  5.48810816e-01,\n",
       "         8.24979930e-01,  1.10114905e+00,  1.37731816e+00,  1.65348727e+00,\n",
       "         1.92965639e+00,  2.20582550e+00,  2.48199462e+00,  2.75816373e+00,\n",
       "         3.03433285e+00,  3.31050196e+00,  3.58667108e+00,  3.86284019e+00,\n",
       "         4.13900931e+00,  4.41517842e+00,  4.69134754e+00,  4.96751665e+00,\n",
       "         5.24368576e+00,  5.51985488e+00,  5.79602399e+00,  6.07219311e+00,\n",
       "         6.34836222e+00,  6.62453134e+00,  6.90070045e+00]),\n",
       " <BarContainer object of 50 artists>)"
      ]
     },
     "execution_count": 25,
     "metadata": {},
     "output_type": "execute_result"
    },
    {
     "data": {
      "image/png": "[encoded data removed]",
      "text/plain": [
       "<Figure size 1152x648 with 1 Axes>"
      ]
     },
     "metadata": {},
     "output_type": "display_data"
    }
   ],
   "source": [
    "X = pd.to_numeric(new_store)\n",
    "kwargs = dict(histtype= 'bar',  alpha=0.3,  bins=50) #normed= True,\n",
    "plt.hist(np.log(X), **kwargs)"
   ]
  },
  {
   "cell_type": "markdown",
   "id": "2cffbfe1",
   "metadata": {},
   "source": [
    "### Цикл нормализации аномальных значений"
   ]
  },
  {
   "cell_type": "code",
   "execution_count": null,
   "id": "ce69f5a8",
   "metadata": {},
   "outputs": [],
   "source": [
    "type(new_store)\n",
    "#new_store.dtypes\n",
    "new_store"
   ]
  },
  {
   "cell_type": "code",
   "execution_count": null,
   "id": "3f6ddca3",
   "metadata": {},
   "outputs": [],
   "source": [
    "data_store_not_nan['Au_base'] = new_store.tolist()\n",
    "data_store_not_nan"
   ]
  },
  {
   "cell_type": "code",
   "execution_count": null,
   "id": "8be45f11",
   "metadata": {},
   "outputs": [],
   "source": [
    "X= pd.to_numeric(data_store_not_nan['Au_base'])\n",
    "#X= pd.to_numeric(new_store)\n",
    "Y= pd.to_numeric(data_store_not_nan['Au'])\n",
    "#plt.yscale('log')\n",
    "kwargs = dict(histtype= 'bar', alpha=0.3,  bins=50) #normed= True,\n",
    "plt.hist(np.log(X), **kwargs) #np.log(X)\n",
    "plt.hist(np.log(Y), **kwargs) #np.log(X)"
   ]
  },
  {
   "cell_type": "markdown",
   "id": "66dad18d",
   "metadata": {},
   "source": [
    "#### Разделение данных на выборки. Выборка для распределения + выборка без аномальных значений"
   ]
  },
  {
   "cell_type": "code",
   "execution_count": null,
   "id": "f939ded4",
   "metadata": {
    "code_folding": []
   },
   "outputs": [],
   "source": [
    "count = []\n",
    "store = []\n",
    "for i in range(0, len(new_store)):\n",
    "    if new_store[i] != sorted_tuple[0][0]:\n",
    "        store.append(new_store[i])\n",
    "    else:\n",
    "        count.append(new_store[i])\n",
    "print(\"Урезанных значений - \",len(store), \"   Значений \", sorted_tuple[0][0], \"-\", len(count))   \n",
    "print(\"Всего: \", len(store)+ len(count))\n",
    "print(float(sorted_tuple[0][0]))\n",
    "print(type(sorted_tuple[0][0]))\n",
    "print(type(float(sorted_tuple[0][0])))\n",
    "print(sorted_tuple[0][0])\n",
    "print(float(sorted_tuple[0][0]))\n"
   ]
  },
  {
   "cell_type": "markdown",
   "id": "3f4be411",
   "metadata": {},
   "source": [
    "#### Распределение данных в выборке аномальных значений"
   ]
  },
  {
   "cell_type": "markdown",
   "id": "860fe33b",
   "metadata": {},
   "source": [
    "##### А. Разброс в пределах округления, если значение не пороговое!"
   ]
  },
  {
   "cell_type": "code",
   "execution_count": null,
   "id": "fa7d4f28",
   "metadata": {
    "code_folding": [],
    "scrolled": true
   },
   "outputs": [],
   "source": [
    "\n",
    "# Распределение значений в выдающихся столбцах!!!\n",
    "znak = float(sorted_tuple[0][0])\n",
    "rand0 = np.random.uniform(znak-0.01, znak+0.01 ,len(count))# разброс случайных значений на количество в колонке\n",
    "rand = rand0.tolist()"
   ]
  },
  {
   "cell_type": "markdown",
   "id": "b40dea92",
   "metadata": {},
   "source": [
    "##### Б. Разброс ниже порогового значения, если значение пороговое!"
   ]
  },
  {
   "cell_type": "code",
   "execution_count": null,
   "id": "a8990c42",
   "metadata": {},
   "outputs": [],
   "source": [
    "# Распределение значений в выдающихся столбцах!!!\n",
    "znak = float(sorted_tuple[0][0])\n",
    "rand0 = np.random.uniform(0.0009, znak ,len(count))# разброс случайных значений на количество в колонке\n",
    "rand = rand0.tolist()"
   ]
  },
  {
   "cell_type": "markdown",
   "id": "10996aca",
   "metadata": {
    "ExecuteTime": {
     "end_time": "2021-09-10T11:03:54.081747Z",
     "start_time": "2021-09-10T11:03:54.078790Z"
    }
   },
   "source": [
    "##### Выборки результата разброса значений."
   ]
  },
  {
   "cell_type": "code",
   "execution_count": null,
   "id": "441c9bd2",
   "metadata": {
    "code_folding": [
     1,
     7
    ]
   },
   "outputs": [],
   "source": [
    "pds1= pd.Series(rand0)\n",
    "print(\"Объект Series случайных величин по выдающемуся значению -\",\n",
    "      znak,\n",
    "      \"  Длина - \",\n",
    "      len(pds1))\n",
    "#---------------------------------------------------------------\n",
    "  \n",
    "print(\"Исходный объект Series по одному элементу без значений -\",\n",
    "      znak,\n",
    "      \"  Длина - \",\n",
    "      len(store))   \n",
    "    \n",
    "#-------------------------------------------------------------------\n"
   ]
  },
  {
   "cell_type": "markdown",
   "id": "010c49f7",
   "metadata": {},
   "source": [
    "#### Соединение данных расчитанных с основными"
   ]
  },
  {
   "cell_type": "code",
   "execution_count": null,
   "id": "e5d0d358",
   "metadata": {},
   "outputs": [],
   "source": [
    "# Объединяем датафрейм без строки с расчитанным случайным образом одномерным массивом\n",
    "stores = pd.Series(store)\n",
    "values_data_store_el = stores.values\n",
    "values_pds1 = pds1.values\n",
    "values_new_series = np.concatenate([stores.values,pds1.values])\n",
    "print(\"Длина сумарного массива\", \n",
    "      len(values_new_series),\n",
    "      \"Проверка:\",\n",
    "      len(stores), \"+\" ,\n",
    "      len(pds1), \"=\", int(len(stores)) + int(len(pds1)))\n",
    "#data_store_new = data_store_el.add(rand1)\n",
    "print(\"Длина исходного массива до операций - \", len(values_new_series)) #len(store)+ len(count)\n",
    "\n",
    "values_new_series =  pd.to_numeric(pd.Series(values_new_series), errors='coerce').map('{:,.3f}'.format)# Преобразование в numeric!\n",
    "vs = pd.Series(values_new_series)\n",
    "\n",
    "print(\"Набор данных с расбросанными значениями первого выдающего элемента \", vs.head(3), '   ...', vs.tail(3))\n",
    "print(\"Тип набора данных: \", type(vs))"
   ]
  },
  {
   "cell_type": "markdown",
   "id": "d402c019",
   "metadata": {},
   "source": [
    "#### Частота встречаемости содержаний после коррекции аномального элемента"
   ]
  },
  {
   "cell_type": "code",
   "execution_count": null,
   "id": "e77250a9",
   "metadata": {},
   "outputs": [],
   "source": [
    "counter_new = {}\n",
    "vs =  pd.to_numeric((vs), errors='coerce').map('{:,.3f}'.format)# Преоразование в numeric!\n",
    "\n",
    "for key in vs.tolist():\n",
    "    counter_new[key] = counter_new.setdefault(key,0) + 1\n",
    "\n",
    "#sorted_tuple = sorted(counter.items(), key=lambda x: x[0]) # Сортировка по ключу\n",
    "data_store_new = sorted(counter_new.items(), key=lambda x: -x[1]) # Сортировка по значению в обратном направлении\n",
    "print(data_store_new[:5])\n"
   ]
  },
  {
   "cell_type": "markdown",
   "id": "9b0716a9",
   "metadata": {},
   "source": [
    "#### Проверка данных на наличие нулевых значений"
   ]
  },
  {
   "cell_type": "code",
   "execution_count": null,
   "id": "c00c69e7",
   "metadata": {
    "scrolled": true
   },
   "outputs": [],
   "source": [
    "x_new = pd.to_numeric(vs)\n",
    "x_new.describe()"
   ]
  },
  {
   "cell_type": "markdown",
   "id": "25d3091d",
   "metadata": {},
   "source": [
    "##### Приращение нулевых значений\n",
    "В случае отсутсвия нулевых значений, пропустить выполнение\n"
   ]
  },
  {
   "cell_type": "code",
   "execution_count": null,
   "id": "e2c43961",
   "metadata": {},
   "outputs": [],
   "source": [
    "count=[]\n",
    "for i in range(0, len(x_new)):\n",
    "    if x_new[i] != x_new.min():\n",
    "        x_new[i] = str(x_new[i])\n",
    "    else:\n",
    "        x_new[i] = str(x_new[i]+ 0.001) \n",
    "        count.append(x_new[i])\n",
    "print(\"Заменено \", len(count), \"значений\")\n",
    "\n",
    "vs = pd.Series(x_new).astype('object')# преобразование в тип object\n",
    "print(\"Преобразованный тип дандных vs.dtypes \", vs.dtypes)\n",
    "vs =  pd.to_numeric((vs), errors='coerce').map('{:,.3f}'.format)# Преоразование в str с 3-мя знаками!\n",
    "print(\"Тип значений в выборке \", type(vs.values[1]))"
   ]
  },
  {
   "cell_type": "markdown",
   "id": "54dd258c",
   "metadata": {},
   "source": [
    "#### Повторение цикла нормализации данных (по необходимости)"
   ]
  },
  {
   "cell_type": "code",
   "execution_count": null,
   "id": "c8091f10",
   "metadata": {},
   "outputs": [],
   "source": [
    "new_store = vs # Присвоение нормализованных данных начальному набору для дальнейшей очистки\n",
    "sorted_tuple = data_store_new # Присвоение набора отсортированных значений\n",
    "print(new_store)\n",
    "print(sorted_tuple[:5])"
   ]
  },
  {
   "cell_type": "markdown",
   "id": "5892e84c",
   "metadata": {},
   "source": [
    "### Построение гистограмм откоректированных данных"
   ]
  },
  {
   "cell_type": "code",
   "execution_count": 26,
   "id": "7b0a6ab3",
   "metadata": {
    "ExecuteTime": {
     "end_time": "2022-01-12T06:49:24.320881Z",
     "start_time": "2022-01-12T06:49:24.308833Z"
    },
    "code_folding": []
   },
   "outputs": [
    {
     "ename": "NameError",
     "evalue": "name 'vs' is not defined",
     "output_type": "error",
     "traceback": [
      "\u001b[1;31m---------------------------------------------------------------------------\u001b[0m",
      "\u001b[1;31mNameError\u001b[0m                                 Traceback (most recent call last)",
      "\u001b[1;32m<ipython-input-26-428510bef556>\u001b[0m in \u001b[0;36m<module>\u001b[1;34m\u001b[0m\n\u001b[0;32m      1\u001b[0m \u001b[1;31m#yscale('log')\u001b[0m\u001b[1;33m\u001b[0m\u001b[1;33m\u001b[0m\u001b[1;33m\u001b[0m\u001b[0m\n\u001b[1;32m----> 2\u001b[1;33m \u001b[0mX\u001b[0m\u001b[1;33m=\u001b[0m \u001b[0mpd\u001b[0m\u001b[1;33m.\u001b[0m\u001b[0mto_numeric\u001b[0m\u001b[1;33m(\u001b[0m\u001b[0mvs\u001b[0m\u001b[1;33m)\u001b[0m\u001b[1;33m\u001b[0m\u001b[1;33m\u001b[0m\u001b[0m\n\u001b[0m\u001b[0;32m      3\u001b[0m \u001b[0mplt\u001b[0m\u001b[1;33m.\u001b[0m\u001b[0myscale\u001b[0m\u001b[1;33m(\u001b[0m\u001b[1;34m'log'\u001b[0m\u001b[1;33m)\u001b[0m\u001b[1;33m\u001b[0m\u001b[1;33m\u001b[0m\u001b[0m\n\u001b[0;32m      4\u001b[0m \u001b[0mplt\u001b[0m\u001b[1;33m.\u001b[0m\u001b[0mxscale\u001b[0m\u001b[1;33m(\u001b[0m\u001b[1;34m'log'\u001b[0m\u001b[1;33m)\u001b[0m\u001b[1;33m\u001b[0m\u001b[1;33m\u001b[0m\u001b[0m\n\u001b[0;32m      5\u001b[0m \u001b[0mkwargs\u001b[0m \u001b[1;33m=\u001b[0m \u001b[0mdict\u001b[0m\u001b[1;33m(\u001b[0m\u001b[0mhisttype\u001b[0m\u001b[1;33m=\u001b[0m \u001b[1;34m'bar'\u001b[0m\u001b[1;33m,\u001b[0m  \u001b[0malpha\u001b[0m\u001b[1;33m=\u001b[0m\u001b[1;36m0.3\u001b[0m\u001b[1;33m,\u001b[0m  \u001b[0mbins\u001b[0m\u001b[1;33m=\u001b[0m\u001b[1;36m50\u001b[0m\u001b[1;33m)\u001b[0m \u001b[1;31m#normed= True,\u001b[0m\u001b[1;33m\u001b[0m\u001b[1;33m\u001b[0m\u001b[0m\n",
      "\u001b[1;31mNameError\u001b[0m: name 'vs' is not defined"
     ]
    }
   ],
   "source": [
    "#yscale('log')\n",
    "X= pd.to_numeric(vs)\n",
    "plt.yscale('log')\n",
    "plt.xscale('log')\n",
    "kwargs = dict(histtype= 'bar',  alpha=0.3,  bins=50) #normed= True,\n",
    "plt.hist(X, **kwargs) #np.log(X)"
   ]
  },
  {
   "cell_type": "code",
   "execution_count": 15,
   "id": "b56d353f",
   "metadata": {
    "ExecuteTime": {
     "end_time": "2022-01-12T06:43:21.115955Z",
     "start_time": "2022-01-12T06:43:21.105954Z"
    },
    "code_folding": []
   },
   "outputs": [
    {
     "ename": "NameError",
     "evalue": "name 'vs' is not defined",
     "output_type": "error",
     "traceback": [
      "\u001b[1;31m---------------------------------------------------------------------------\u001b[0m",
      "\u001b[1;31mNameError\u001b[0m                                 Traceback (most recent call last)",
      "\u001b[1;32m<ipython-input-15-cc3019eff231>\u001b[0m in \u001b[0;36m<module>\u001b[1;34m\u001b[0m\n\u001b[0;32m      1\u001b[0m \u001b[1;31m#np.log(X)\u001b[0m\u001b[1;33m\u001b[0m\u001b[1;33m\u001b[0m\u001b[1;33m\u001b[0m\u001b[0m\n\u001b[1;32m----> 2\u001b[1;33m \u001b[0mX\u001b[0m\u001b[1;33m=\u001b[0m \u001b[0mpd\u001b[0m\u001b[1;33m.\u001b[0m\u001b[0mto_numeric\u001b[0m\u001b[1;33m(\u001b[0m\u001b[0mvs\u001b[0m\u001b[1;33m)\u001b[0m\u001b[1;33m\u001b[0m\u001b[1;33m\u001b[0m\u001b[0m\n\u001b[0m\u001b[0;32m      3\u001b[0m \u001b[0mY\u001b[0m\u001b[1;33m=\u001b[0m \u001b[0mpd\u001b[0m\u001b[1;33m.\u001b[0m\u001b[0mto_numeric\u001b[0m\u001b[1;33m(\u001b[0m\u001b[0mstore_nan_out\u001b[0m\u001b[1;33m)\u001b[0m\u001b[1;33m\u001b[0m\u001b[1;33m\u001b[0m\u001b[0m\n\u001b[0;32m      4\u001b[0m \u001b[1;33m\u001b[0m\u001b[0m\n\u001b[0;32m      5\u001b[0m \u001b[0mkwargs\u001b[0m \u001b[1;33m=\u001b[0m \u001b[0mdict\u001b[0m\u001b[1;33m(\u001b[0m\u001b[0mhisttype\u001b[0m\u001b[1;33m=\u001b[0m \u001b[1;34m'bar'\u001b[0m\u001b[1;33m,\u001b[0m  \u001b[0malpha\u001b[0m\u001b[1;33m=\u001b[0m\u001b[1;36m0.3\u001b[0m\u001b[1;33m,\u001b[0m  \u001b[0mbins\u001b[0m\u001b[1;33m=\u001b[0m\u001b[1;36m60\u001b[0m\u001b[1;33m)\u001b[0m \u001b[1;31m#normed= True,\u001b[0m\u001b[1;33m\u001b[0m\u001b[1;33m\u001b[0m\u001b[0m\n",
      "\u001b[1;31mNameError\u001b[0m: name 'vs' is not defined"
     ]
    }
   ],
   "source": [
    "#np.log(X)\n",
    "X= pd.to_numeric(vs)\n",
    "Y= pd.to_numeric(store_nan_out)\n",
    "\n",
    "kwargs = dict(histtype= 'bar',  alpha=0.3,  bins=60) #normed= True,\n",
    "plt.hist(np.log(X), **kwargs)\n",
    "plt.hist(np.log(Y), **kwargs)#np.log(X) для блокировки 0 значений логарифма добавлям малую величину!"
   ]
  },
  {
   "cell_type": "code",
   "execution_count": null,
   "id": "04cec538",
   "metadata": {},
   "outputs": [],
   "source": [
    "# yscale('log'), np.log(X)\n",
    "X= pd.to_numeric(vs)\n",
    "Y= pd.to_numeric(data_store_not_nan['Au'])\n",
    "plt.yscale('log')\n",
    "kwargs = dict(histtype= 'bar',  alpha=0.3,  bins=50) #normed= True,\n",
    "plt.hist(np.log(X), **kwargs) #np.log(X) для блокировки 0 значений логарифма добавлям малую величину!\n",
    "plt.hist(np.log(Y), **kwargs)"
   ]
  },
  {
   "cell_type": "markdown",
   "id": "4a4d2fce",
   "metadata": {},
   "source": [
    "## Подготавливаем исходный датафрейм x"
   ]
  },
  {
   "cell_type": "markdown",
   "id": "10e40a95",
   "metadata": {},
   "source": [
    "### Из исходного набора"
   ]
  },
  {
   "cell_type": "code",
   "execution_count": 27,
   "id": "3222ae33",
   "metadata": {
    "ExecuteTime": {
     "end_time": "2022-01-12T06:49:36.734752Z",
     "start_time": "2022-01-12T06:49:36.479744Z"
    },
    "scrolled": true
   },
   "outputs": [
    {
     "data": {
      "text/plain": [
       "(array([3.5300e+02, 0.0000e+00, 7.2700e+02, 7.0100e+02, 0.0000e+00,\n",
       "        1.3910e+03, 6.9800e+02, 2.0960e+03, 2.2820e+03, 2.0250e+03,\n",
       "        3.4670e+03, 5.0420e+03, 6.2550e+03, 7.6730e+03, 1.0581e+04,\n",
       "        1.4018e+04, 1.1528e+04, 1.0472e+04, 1.1357e+04, 1.0230e+04,\n",
       "        1.5483e+04, 8.7050e+03, 6.9780e+03, 6.3010e+03, 5.8730e+03,\n",
       "        5.5100e+03, 5.4100e+03, 5.0080e+03, 4.6220e+03, 4.3980e+03,\n",
       "        3.8190e+03, 3.1040e+03, 2.4640e+03, 1.7750e+03, 1.2040e+03,\n",
       "        7.9400e+02, 5.5500e+02, 3.9000e+02, 2.7300e+02, 1.8500e+02,\n",
       "        1.6100e+02, 1.2000e+02, 8.0000e+01, 6.7000e+01, 3.5000e+01,\n",
       "        2.9000e+01, 2.6000e+01, 1.1000e+01, 1.1000e+01, 7.0000e+00]),\n",
       " array([-6.90775528e+00, -6.63158616e+00, -6.35541705e+00, -6.07924794e+00,\n",
       "        -5.80307882e+00, -5.52690971e+00, -5.25074059e+00, -4.97457148e+00,\n",
       "        -4.69840236e+00, -4.42223325e+00, -4.14606413e+00, -3.86989502e+00,\n",
       "        -3.59372590e+00, -3.31755679e+00, -3.04138767e+00, -2.76521856e+00,\n",
       "        -2.48904945e+00, -2.21288033e+00, -1.93671122e+00, -1.66054210e+00,\n",
       "        -1.38437299e+00, -1.10820387e+00, -8.32034757e-01, -5.55865643e-01,\n",
       "        -2.79696528e-01, -3.52741344e-03,  2.72641701e-01,  5.48810816e-01,\n",
       "         8.24979930e-01,  1.10114905e+00,  1.37731816e+00,  1.65348727e+00,\n",
       "         1.92965639e+00,  2.20582550e+00,  2.48199462e+00,  2.75816373e+00,\n",
       "         3.03433285e+00,  3.31050196e+00,  3.58667108e+00,  3.86284019e+00,\n",
       "         4.13900931e+00,  4.41517842e+00,  4.69134754e+00,  4.96751665e+00,\n",
       "         5.24368576e+00,  5.51985488e+00,  5.79602399e+00,  6.07219311e+00,\n",
       "         6.34836222e+00,  6.62453134e+00,  6.90070045e+00]),\n",
       " <BarContainer object of 50 artists>)"
      ]
     },
     "execution_count": 27,
     "metadata": {},
     "output_type": "execute_result"
    },
    {
     "data": {
      "image/png": "[encoded data removed]",
      "text/plain": [
       "<Figure size 1152x648 with 1 Axes>"
      ]
     },
     "metadata": {},
     "output_type": "display_data"
    }
   ],
   "source": [
    "x0 = pd.to_numeric(store_nan_out)\n",
    "kwargs = dict(histtype= 'bar',  alpha=0.3,  bins=50) #normed= True,\n",
    "plt.hist(np.log(x0), **kwargs)"
   ]
  },
  {
   "cell_type": "code",
   "execution_count": 28,
   "id": "c5eb1b23",
   "metadata": {
    "ExecuteTime": {
     "end_time": "2022-01-12T06:49:53.614864Z",
     "start_time": "2022-01-12T06:49:53.558450Z"
    }
   },
   "outputs": [
    {
     "data": {
      "text/plain": [
       "count    184294.000000\n",
       "mean         -1.458115\n",
       "std           1.860915\n",
       "min          -6.907755\n",
       "25%          -2.718101\n",
       "50%          -1.560648\n",
       "75%          -0.287682\n",
       "max           6.900701\n",
       "dtype: float64"
      ]
     },
     "execution_count": 28,
     "metadata": {},
     "output_type": "execute_result"
    }
   ],
   "source": [
    "x= pd.Series(store_nan_out).astype('float32')\n",
    "x= np.log(x)\n",
    "x.describe()"
   ]
  },
  {
   "cell_type": "markdown",
   "id": "ab77c2d7",
   "metadata": {},
   "source": [
    "### Из \"очищенного\" набора"
   ]
  },
  {
   "cell_type": "code",
   "execution_count": 18,
   "id": "474d8380",
   "metadata": {
    "ExecuteTime": {
     "end_time": "2022-01-12T06:43:52.244033Z",
     "start_time": "2022-01-12T06:43:52.235048Z"
    }
   },
   "outputs": [
    {
     "ename": "NameError",
     "evalue": "name 'x_new' is not defined",
     "output_type": "error",
     "traceback": [
      "\u001b[1;31m---------------------------------------------------------------------------\u001b[0m",
      "\u001b[1;31mNameError\u001b[0m                                 Traceback (most recent call last)",
      "\u001b[1;32m<ipython-input-18-911bbd108cd0>\u001b[0m in \u001b[0;36m<module>\u001b[1;34m\u001b[0m\n\u001b[1;32m----> 1\u001b[1;33m \u001b[0mx\u001b[0m\u001b[1;33m=\u001b[0m \u001b[0mx_new\u001b[0m\u001b[1;33m\u001b[0m\u001b[1;33m\u001b[0m\u001b[0m\n\u001b[0m\u001b[0;32m      2\u001b[0m \u001b[1;31m#x = data_store_el[0].dropna()\u001b[0m\u001b[1;33m\u001b[0m\u001b[1;33m\u001b[0m\u001b[1;33m\u001b[0m\u001b[0m\n\u001b[0;32m      3\u001b[0m \u001b[1;31m# Логарифмирование данных\u001b[0m\u001b[1;33m\u001b[0m\u001b[1;33m\u001b[0m\u001b[1;33m\u001b[0m\u001b[0m\n\u001b[0;32m      4\u001b[0m \u001b[0mx\u001b[0m\u001b[1;33m=\u001b[0m \u001b[0mnp\u001b[0m\u001b[1;33m.\u001b[0m\u001b[0mlog\u001b[0m\u001b[1;33m(\u001b[0m\u001b[0mx\u001b[0m\u001b[1;33m)\u001b[0m\u001b[1;33m\u001b[0m\u001b[1;33m\u001b[0m\u001b[0m\n\u001b[0;32m      5\u001b[0m \u001b[0mx\u001b[0m\u001b[1;33m.\u001b[0m\u001b[0mdescribe\u001b[0m\u001b[1;33m(\u001b[0m\u001b[1;33m)\u001b[0m\u001b[1;33m\u001b[0m\u001b[1;33m\u001b[0m\u001b[0m\n",
      "\u001b[1;31mNameError\u001b[0m: name 'x_new' is not defined"
     ]
    }
   ],
   "source": [
    "x= x_new\n",
    "#x = data_store_el[0].dropna()\n",
    "# Логарифмирование данных\n",
    "x= np.log(x)\n",
    "x.describe()"
   ]
  },
  {
   "cell_type": "markdown",
   "id": "4854b34c",
   "metadata": {},
   "source": [
    "## Массив признаков"
   ]
  },
  {
   "cell_type": "code",
   "execution_count": 29,
   "id": "98b1f3fb",
   "metadata": {
    "ExecuteTime": {
     "end_time": "2022-01-12T06:50:05.651002Z",
     "start_time": "2022-01-12T06:50:05.644759Z"
    },
    "code_folding": []
   },
   "outputs": [
    {
     "data": {
      "text/plain": [
       "(184294, 1)"
      ]
     },
     "execution_count": 29,
     "metadata": {},
     "output_type": "execute_result"
    }
   ],
   "source": [
    "# СОЗДАНИЕ МАССИВА ПРИЗНАКОВ (ОДНОМЕРНОГО)\n",
    "X  = np.array(x.values[:, np.newaxis]) # x.values преобразование из сериес в массив\n",
    "X.shape\n",
    "#q = np.array(x,)\n",
    "#q.shape"
   ]
  },
  {
   "cell_type": "markdown",
   "id": "43635806",
   "metadata": {},
   "source": [
    "## Предварительный анализ модели"
   ]
  },
  {
   "cell_type": "markdown",
   "id": "e150a66a",
   "metadata": {},
   "source": [
    "### Обучение модели для анализа"
   ]
  },
  {
   "cell_type": "code",
   "execution_count": 30,
   "id": "b23bb8c7",
   "metadata": {
    "ExecuteTime": {
     "end_time": "2022-01-12T06:50:19.903592Z",
     "start_time": "2022-01-12T06:50:11.583871Z"
    },
    "code_folding": []
   },
   "outputs": [],
   "source": [
    "#ОБУЧЕНИЕ МОДЕЛИ НА 1-10 КОМПОНЕНТАХ\n",
    "k_arr = np.arange(10)+1\n",
    "\n",
    "models = [\n",
    "GaussianMixture(n_components=k, covariance_type='full', random_state=0).fit(X)\n",
    "for k in k_arr\n",
    "]"
   ]
  },
  {
   "cell_type": "markdown",
   "id": "c5f6ab38",
   "metadata": {},
   "source": [
    "### Вывод на гистограммы"
   ]
  },
  {
   "cell_type": "code",
   "execution_count": 31,
   "id": "e5a196e0",
   "metadata": {
    "ExecuteTime": {
     "end_time": "2022-01-12T06:51:32.808200Z",
     "start_time": "2022-01-12T06:51:32.801219Z"
    },
    "code_folding": []
   },
   "outputs": [],
   "source": [
    "# ФУНКЦИЯ ПЕЧАТИ\n",
    "def plot_mixture(gmm, X, show_legend=True, ax=None):\n",
    "    if ax is None:\n",
    "        ax = plt.gca()\n",
    "    # Compute PDF of whole mixture\n",
    "    x = np.linspace(-6, 6, 1000)\n",
    "    logprob = gmm.score_samples(x.reshape(-1, 1))\n",
    "    pdf = np.exp(logprob)\n",
    "    # Compute PDF for each component\n",
    "    responsibilities = gmm.predict_proba(x.reshape(-1, 1))\n",
    "    pdf_individual = responsibilities * pdf[:, np.newaxis]\n",
    "    # Plot data histogram\n",
    "    ax.hist(X, 30, density=True, histtype='stepfilled', alpha=0.4, label ='Data')\n",
    "    # Plot PDF of whole model\n",
    "    ax.plot(x, pdf, '-k', label='Mixture PDF')\n",
    "    # Plot PDF of each component\n",
    "    ax.plot(x, pdf_individual, '--', label='Component PDF')\n",
    "    ax.set_xlabel('$x$')\n",
    "    ax.set_ylabel('$p(x)$')\n",
    "    if show_legend:\n",
    "        ax.legend()"
   ]
  },
  {
   "cell_type": "code",
   "execution_count": 32,
   "id": "58f9d9db",
   "metadata": {
    "ExecuteTime": {
     "end_time": "2022-01-12T06:51:38.072885Z",
     "start_time": "2022-01-12T06:51:37.117908Z"
    },
    "code_folding": []
   },
   "outputs": [
    {
     "data": {
      "image/png": "[encoded data removed]",
      "text/plain": [
       "<Figure size 900x900 with 9 Axes>"
      ]
     },
     "metadata": {},
     "output_type": "display_data"
    }
   ],
   "source": [
    "# ВИЗУАЛИЗАЦИЯ ВСЕХ КОМПОНЕНТОВ С 1 ПО 9\n",
    "_, axes = plt.subplots(3, 3, figsize=np.array([3,3])*3, dpi=100)\n",
    "for gmm, ax in zip(models, axes.ravel()):\n",
    "\n",
    "    plot_mixture(gmm, X, show_legend=False, ax=ax)\n",
    "    ax.set_title(f'модель{gmm.n_components-1} к-во компонет={gmm.n_components}')\n",
    "plt.tight_layout()"
   ]
  },
  {
   "cell_type": "markdown",
   "id": "06e5bdf2",
   "metadata": {},
   "source": [
    "### Определение количества компонент по графику AIC, BIC\n"
   ]
  },
  {
   "cell_type": "code",
   "execution_count": 33,
   "id": "e76c7d43",
   "metadata": {
    "ExecuteTime": {
     "end_time": "2022-01-12T06:52:17.198637Z",
     "start_time": "2022-01-12T06:52:15.768459Z"
    },
    "code_folding": []
   },
   "outputs": [
    {
     "data": {
      "text/plain": [
       "<matplotlib.legend.Legend at 0x1afa3c00ee0>"
      ]
     },
     "execution_count": 33,
     "metadata": {},
     "output_type": "execute_result"
    },
    {
     "data": {
      "image/png": "[encoded data removed]",
      "text/plain": [
       "<Figure size 1152x648 with 1 Axes>"
      ]
     },
     "metadata": {},
     "output_type": "display_data"
    }
   ],
   "source": [
    "# Compute metrics to determine best hyperparameter\n",
    "AIC = [m.aic(X) for m in models]\n",
    "BIC = [m.bic(X) for m in models]\n",
    "# Plot these metrics\n",
    "plt.plot(k_arr, AIC, label='AIC')\n",
    "plt.plot(k_arr, BIC, label='BIC')\n",
    "plt.xlabel('Номер компоненты ($k$)')\n",
    "plt.legend()\n"
   ]
  },
  {
   "cell_type": "markdown",
   "id": "df2bc8b4",
   "metadata": {},
   "source": [
    "### Гистограмма по отдельному компоненту модели"
   ]
  },
  {
   "cell_type": "code",
   "execution_count": 35,
   "id": "306b160d",
   "metadata": {
    "ExecuteTime": {
     "end_time": "2022-01-12T06:56:50.723767Z",
     "start_time": "2022-01-12T06:56:50.382716Z"
    }
   },
   "outputs": [
    {
     "data": {
      "image/png": "[encoded data removed]",
      "text/plain": [
       "<Figure size 1152x648 with 1 Axes>"
      ]
     },
     "metadata": {},
     "output_type": "display_data"
    }
   ],
   "source": [
    "\n",
    "#[np.argmin(AIC)] #- Графически расчитанная модель\n",
    "N_model=6 #-номер принятой модели (N_model +1)\n",
    "\n",
    "#gmm_best = models[np.argmin(AIC)]\n",
    "#plot_mixture(gmm_best, X)\n",
    "gmm_optimal = models[N_model]\n",
    "plot_mixture(gmm_optimal,X)"
   ]
  },
  {
   "cell_type": "markdown",
   "id": "b8c6ec60",
   "metadata": {},
   "source": [
    "## Обучение модели (по расчитанным компонентам) и предикт значений в исходный фрейм"
   ]
  },
  {
   "cell_type": "code",
   "execution_count": 38,
   "id": "425266ca",
   "metadata": {
    "ExecuteTime": {
     "end_time": "2022-01-12T07:16:29.672124Z",
     "start_time": "2022-01-12T07:16:28.551092Z"
    }
   },
   "outputs": [
    {
     "name": "stdout",
     "output_type": "stream",
     "text": [
      "means_ 0 [1.208] covariances 0 [[0.34]] Значения приведены к логарифмическому виду!\n",
      "means_ 1 [-2.512] covariances 1 [[0.149]] Значения приведены к логарифмическому виду!\n",
      "means_ 2 [-0.118] covariances 2 [[0.229]] Значения приведены к логарифмическому виду!\n",
      "means_ 3 [-3.486] covariances 3 [[0.259]] Значения приведены к логарифмическому виду!\n",
      "means_ 4 [-1.325] covariances 4 [[0.135]] Значения приведены к логарифмическому виду!\n",
      "means_ 5 [-4.919] covariances 5 [[0.695]] Значения приведены к логарифмическому виду!\n",
      "means_ 6 [2.42] covariances 6 [[1.195]] Значения приведены к логарифмическому виду!\n",
      "          Hole-ID     Sample        From          To    Au Au_rand  EM_Cluster\n",
      "184300  VD-20-105  V20105066  197.699997  198.800003  0.05   0.068           1\n",
      "184301  VD-20-105  V20105067  198.800003  199.899994  0.05   0.067           1\n",
      "184302  VD-20-105  V20105068  199.899994  201.000000  0.05   0.083           1\n"
     ]
    },
    {
     "data": {
      "text/plain": [
       "(184294, 7)"
      ]
     },
     "execution_count": 38,
     "metadata": {},
     "output_type": "execute_result"
    }
   ],
   "source": [
    "gmm = GaussianMixture(n_components=N_model + 1)\n",
    "gmm.fit(X)\n",
    "data_store_el=data_store_not_nan\n",
    "data_store_el.loc[:,'EM_Cluster'] = gmm.predict(X)\n",
    "\n",
    "for n in range(0, N_model+1):\n",
    "    print(\"means_\" , n , gmm.means_[n].round(3),\n",
    "          \"covariances\", n , gmm.covariances_[n].round(3),\n",
    "    \"Значения приведены к логарифмическому виду!\")\n",
    "print(data_store_el.tail(3))\n",
    "data_store_el.shape    \n",
    " "
   ]
  },
  {
   "cell_type": "code",
   "execution_count": 39,
   "id": "7b818be4",
   "metadata": {
    "ExecuteTime": {
     "end_time": "2022-01-12T07:16:33.289466Z",
     "start_time": "2022-01-12T07:16:33.275503Z"
    }
   },
   "outputs": [
    {
     "data": {
      "text/html": [
       "<div>\n",
       "<style scoped>\n",
       "    .dataframe tbody tr th:only-of-type {\n",
       "        vertical-align: middle;\n",
       "    }\n",
       "\n",
       "    .dataframe tbody tr th {\n",
       "        vertical-align: top;\n",
       "    }\n",
       "\n",
       "    .dataframe thead th {\n",
       "        text-align: right;\n",
       "    }\n",
       "</style>\n",
       "<table border=\"1\" class=\"dataframe\">\n",
       "  <thead>\n",
       "    <tr style=\"text-align: right;\">\n",
       "      <th></th>\n",
       "      <th>Hole-ID</th>\n",
       "      <th>Sample</th>\n",
       "      <th>From</th>\n",
       "      <th>To</th>\n",
       "      <th>Au</th>\n",
       "      <th>Au_rand</th>\n",
       "      <th>EM_Cluster</th>\n",
       "    </tr>\n",
       "  </thead>\n",
       "  <tbody>\n",
       "    <tr>\n",
       "      <th>0</th>\n",
       "      <td>00-1</td>\n",
       "      <td>101</td>\n",
       "      <td>9.500000</td>\n",
       "      <td>10.000000</td>\n",
       "      <td>0.10</td>\n",
       "      <td>0.071</td>\n",
       "      <td>1</td>\n",
       "    </tr>\n",
       "    <tr>\n",
       "      <th>1</th>\n",
       "      <td>00-1</td>\n",
       "      <td>102</td>\n",
       "      <td>10.000000</td>\n",
       "      <td>11.000000</td>\n",
       "      <td>4.50</td>\n",
       "      <td>4.500</td>\n",
       "      <td>0</td>\n",
       "    </tr>\n",
       "    <tr>\n",
       "      <th>2</th>\n",
       "      <td>00-1</td>\n",
       "      <td>103</td>\n",
       "      <td>11.000000</td>\n",
       "      <td>12.000000</td>\n",
       "      <td>5.00</td>\n",
       "      <td>5.000</td>\n",
       "      <td>0</td>\n",
       "    </tr>\n",
       "    <tr>\n",
       "      <th>3</th>\n",
       "      <td>00-1</td>\n",
       "      <td>104</td>\n",
       "      <td>12.000000</td>\n",
       "      <td>13.000000</td>\n",
       "      <td>2.10</td>\n",
       "      <td>2.135</td>\n",
       "      <td>0</td>\n",
       "    </tr>\n",
       "    <tr>\n",
       "      <th>4</th>\n",
       "      <td>00-1</td>\n",
       "      <td>105</td>\n",
       "      <td>13.000000</td>\n",
       "      <td>14.000000</td>\n",
       "      <td>0.10</td>\n",
       "      <td>0.007</td>\n",
       "      <td>5</td>\n",
       "    </tr>\n",
       "    <tr>\n",
       "      <th>...</th>\n",
       "      <td>...</td>\n",
       "      <td>...</td>\n",
       "      <td>...</td>\n",
       "      <td>...</td>\n",
       "      <td>...</td>\n",
       "      <td>...</td>\n",
       "      <td>...</td>\n",
       "    </tr>\n",
       "    <tr>\n",
       "      <th>184298</th>\n",
       "      <td>VD-20-105</td>\n",
       "      <td>V20105064</td>\n",
       "      <td>195.699997</td>\n",
       "      <td>196.699997</td>\n",
       "      <td>0.05</td>\n",
       "      <td>0.020</td>\n",
       "      <td>3</td>\n",
       "    </tr>\n",
       "    <tr>\n",
       "      <th>184299</th>\n",
       "      <td>VD-20-105</td>\n",
       "      <td>V20105065</td>\n",
       "      <td>196.699997</td>\n",
       "      <td>197.699997</td>\n",
       "      <td>0.05</td>\n",
       "      <td>0.064</td>\n",
       "      <td>1</td>\n",
       "    </tr>\n",
       "    <tr>\n",
       "      <th>184300</th>\n",
       "      <td>VD-20-105</td>\n",
       "      <td>V20105066</td>\n",
       "      <td>197.699997</td>\n",
       "      <td>198.800003</td>\n",
       "      <td>0.05</td>\n",
       "      <td>0.068</td>\n",
       "      <td>1</td>\n",
       "    </tr>\n",
       "    <tr>\n",
       "      <th>184301</th>\n",
       "      <td>VD-20-105</td>\n",
       "      <td>V20105067</td>\n",
       "      <td>198.800003</td>\n",
       "      <td>199.899994</td>\n",
       "      <td>0.05</td>\n",
       "      <td>0.067</td>\n",
       "      <td>1</td>\n",
       "    </tr>\n",
       "    <tr>\n",
       "      <th>184302</th>\n",
       "      <td>VD-20-105</td>\n",
       "      <td>V20105068</td>\n",
       "      <td>199.899994</td>\n",
       "      <td>201.000000</td>\n",
       "      <td>0.05</td>\n",
       "      <td>0.083</td>\n",
       "      <td>1</td>\n",
       "    </tr>\n",
       "  </tbody>\n",
       "</table>\n",
       "<p>184294 rows × 7 columns</p>\n",
       "</div>"
      ],
      "text/plain": [
       "          Hole-ID     Sample        From          To    Au Au_rand  EM_Cluster\n",
       "0            00-1        101    9.500000   10.000000  0.10   0.071           1\n",
       "1            00-1        102   10.000000   11.000000  4.50   4.500           0\n",
       "2            00-1        103   11.000000   12.000000  5.00   5.000           0\n",
       "3            00-1        104   12.000000   13.000000  2.10   2.135           0\n",
       "4            00-1        105   13.000000   14.000000  0.10   0.007           5\n",
       "...           ...        ...         ...         ...   ...     ...         ...\n",
       "184298  VD-20-105  V20105064  195.699997  196.699997  0.05   0.020           3\n",
       "184299  VD-20-105  V20105065  196.699997  197.699997  0.05   0.064           1\n",
       "184300  VD-20-105  V20105066  197.699997  198.800003  0.05   0.068           1\n",
       "184301  VD-20-105  V20105067  198.800003  199.899994  0.05   0.067           1\n",
       "184302  VD-20-105  V20105068  199.899994  201.000000  0.05   0.083           1\n",
       "\n",
       "[184294 rows x 7 columns]"
      ]
     },
     "execution_count": 39,
     "metadata": {},
     "output_type": "execute_result"
    }
   ],
   "source": [
    "data_store_el"
   ]
  },
  {
   "cell_type": "code",
   "execution_count": 40,
   "id": "6ad679b7",
   "metadata": {
    "ExecuteTime": {
     "end_time": "2022-01-12T07:16:54.419363Z",
     "start_time": "2022-01-12T07:16:54.395826Z"
    }
   },
   "outputs": [
    {
     "data": {
      "text/html": [
       "<div>\n",
       "<style scoped>\n",
       "    .dataframe tbody tr th:only-of-type {\n",
       "        vertical-align: middle;\n",
       "    }\n",
       "\n",
       "    .dataframe tbody tr th {\n",
       "        vertical-align: top;\n",
       "    }\n",
       "\n",
       "    .dataframe thead th {\n",
       "        text-align: right;\n",
       "    }\n",
       "</style>\n",
       "<table border=\"1\" class=\"dataframe\">\n",
       "  <thead>\n",
       "    <tr style=\"text-align: right;\">\n",
       "      <th></th>\n",
       "      <th>Hole-ID</th>\n",
       "      <th>Sample</th>\n",
       "      <th>From</th>\n",
       "      <th>To</th>\n",
       "      <th>Au</th>\n",
       "      <th>Au_rand</th>\n",
       "      <th>EM_Cluster</th>\n",
       "      <th>Au_base</th>\n",
       "    </tr>\n",
       "  </thead>\n",
       "  <tbody>\n",
       "    <tr>\n",
       "      <th>0</th>\n",
       "      <td>00-1</td>\n",
       "      <td>101</td>\n",
       "      <td>9.500000</td>\n",
       "      <td>10.000000</td>\n",
       "      <td>0.10</td>\n",
       "      <td>0.071</td>\n",
       "      <td>1</td>\n",
       "      <td>0.071</td>\n",
       "    </tr>\n",
       "    <tr>\n",
       "      <th>1</th>\n",
       "      <td>00-1</td>\n",
       "      <td>102</td>\n",
       "      <td>10.000000</td>\n",
       "      <td>11.000000</td>\n",
       "      <td>4.50</td>\n",
       "      <td>4.500</td>\n",
       "      <td>0</td>\n",
       "      <td>4.500</td>\n",
       "    </tr>\n",
       "    <tr>\n",
       "      <th>2</th>\n",
       "      <td>00-1</td>\n",
       "      <td>103</td>\n",
       "      <td>11.000000</td>\n",
       "      <td>12.000000</td>\n",
       "      <td>5.00</td>\n",
       "      <td>5.000</td>\n",
       "      <td>0</td>\n",
       "      <td>5.000</td>\n",
       "    </tr>\n",
       "    <tr>\n",
       "      <th>3</th>\n",
       "      <td>00-1</td>\n",
       "      <td>104</td>\n",
       "      <td>12.000000</td>\n",
       "      <td>13.000000</td>\n",
       "      <td>2.10</td>\n",
       "      <td>2.135</td>\n",
       "      <td>0</td>\n",
       "      <td>2.135</td>\n",
       "    </tr>\n",
       "    <tr>\n",
       "      <th>4</th>\n",
       "      <td>00-1</td>\n",
       "      <td>105</td>\n",
       "      <td>13.000000</td>\n",
       "      <td>14.000000</td>\n",
       "      <td>0.10</td>\n",
       "      <td>0.007</td>\n",
       "      <td>5</td>\n",
       "      <td>0.007</td>\n",
       "    </tr>\n",
       "    <tr>\n",
       "      <th>...</th>\n",
       "      <td>...</td>\n",
       "      <td>...</td>\n",
       "      <td>...</td>\n",
       "      <td>...</td>\n",
       "      <td>...</td>\n",
       "      <td>...</td>\n",
       "      <td>...</td>\n",
       "      <td>...</td>\n",
       "    </tr>\n",
       "    <tr>\n",
       "      <th>184298</th>\n",
       "      <td>VD-20-105</td>\n",
       "      <td>V20105064</td>\n",
       "      <td>195.699997</td>\n",
       "      <td>196.699997</td>\n",
       "      <td>0.05</td>\n",
       "      <td>0.020</td>\n",
       "      <td>3</td>\n",
       "      <td>0.020</td>\n",
       "    </tr>\n",
       "    <tr>\n",
       "      <th>184299</th>\n",
       "      <td>VD-20-105</td>\n",
       "      <td>V20105065</td>\n",
       "      <td>196.699997</td>\n",
       "      <td>197.699997</td>\n",
       "      <td>0.05</td>\n",
       "      <td>0.064</td>\n",
       "      <td>1</td>\n",
       "      <td>0.064</td>\n",
       "    </tr>\n",
       "    <tr>\n",
       "      <th>184300</th>\n",
       "      <td>VD-20-105</td>\n",
       "      <td>V20105066</td>\n",
       "      <td>197.699997</td>\n",
       "      <td>198.800003</td>\n",
       "      <td>0.05</td>\n",
       "      <td>0.068</td>\n",
       "      <td>1</td>\n",
       "      <td>0.068</td>\n",
       "    </tr>\n",
       "    <tr>\n",
       "      <th>184301</th>\n",
       "      <td>VD-20-105</td>\n",
       "      <td>V20105067</td>\n",
       "      <td>198.800003</td>\n",
       "      <td>199.899994</td>\n",
       "      <td>0.05</td>\n",
       "      <td>0.067</td>\n",
       "      <td>1</td>\n",
       "      <td>0.067</td>\n",
       "    </tr>\n",
       "    <tr>\n",
       "      <th>184302</th>\n",
       "      <td>VD-20-105</td>\n",
       "      <td>V20105068</td>\n",
       "      <td>199.899994</td>\n",
       "      <td>201.000000</td>\n",
       "      <td>0.05</td>\n",
       "      <td>0.083</td>\n",
       "      <td>1</td>\n",
       "      <td>0.083</td>\n",
       "    </tr>\n",
       "  </tbody>\n",
       "</table>\n",
       "<p>184294 rows × 8 columns</p>\n",
       "</div>"
      ],
      "text/plain": [
       "          Hole-ID     Sample        From          To    Au Au_rand  \\\n",
       "0            00-1        101    9.500000   10.000000  0.10   0.071   \n",
       "1            00-1        102   10.000000   11.000000  4.50   4.500   \n",
       "2            00-1        103   11.000000   12.000000  5.00   5.000   \n",
       "3            00-1        104   12.000000   13.000000  2.10   2.135   \n",
       "4            00-1        105   13.000000   14.000000  0.10   0.007   \n",
       "...           ...        ...         ...         ...   ...     ...   \n",
       "184298  VD-20-105  V20105064  195.699997  196.699997  0.05   0.020   \n",
       "184299  VD-20-105  V20105065  196.699997  197.699997  0.05   0.064   \n",
       "184300  VD-20-105  V20105066  197.699997  198.800003  0.05   0.068   \n",
       "184301  VD-20-105  V20105067  198.800003  199.899994  0.05   0.067   \n",
       "184302  VD-20-105  V20105068  199.899994  201.000000  0.05   0.083   \n",
       "\n",
       "        EM_Cluster Au_base  \n",
       "0                1   0.071  \n",
       "1                0   4.500  \n",
       "2                0   5.000  \n",
       "3                0   2.135  \n",
       "4                5   0.007  \n",
       "...            ...     ...  \n",
       "184298           3   0.020  \n",
       "184299           1   0.064  \n",
       "184300           1   0.068  \n",
       "184301           1   0.067  \n",
       "184302           1   0.083  \n",
       "\n",
       "[184294 rows x 8 columns]"
      ]
     },
     "execution_count": 40,
     "metadata": {},
     "output_type": "execute_result"
    }
   ],
   "source": [
    "data_store_el['Au_base']= new_store.tolist()\n",
    "data_store_el"
   ]
  },
  {
   "cell_type": "code",
   "execution_count": 1,
   "id": "e7d9f9e5",
   "metadata": {
    "ExecuteTime": {
     "end_time": "2022-01-13T05:17:21.682004Z",
     "start_time": "2022-01-13T05:17:21.523835Z"
    }
   },
   "outputs": [
    {
     "ename": "NameError",
     "evalue": "name 'data_store_el' is not defined",
     "output_type": "error",
     "traceback": [
      "\u001b[1;31m---------------------------------------------------------------------------\u001b[0m",
      "\u001b[1;31mNameError\u001b[0m                                 Traceback (most recent call last)",
      "\u001b[1;32m<ipython-input-1-a204388c27ac>\u001b[0m in \u001b[0;36m<module>\u001b[1;34m\u001b[0m\n\u001b[0;32m      2\u001b[0m \u001b[0mout_path\u001b[0m \u001b[1;33m=\u001b[0m \u001b[1;34mr'C://Users/Sergey.Miklovda/Desktop/WORK_MATERIALS/VAE/VAE_2021/Valunistoe_EM.xlsx'\u001b[0m\u001b[1;33m\u001b[0m\u001b[1;33m\u001b[0m\u001b[0m\n\u001b[0;32m      3\u001b[0m \u001b[1;31m#input(\"Введите путь к файлу вывода__\")\u001b[0m\u001b[1;33m\u001b[0m\u001b[1;33m\u001b[0m\u001b[1;33m\u001b[0m\u001b[0m\n\u001b[1;32m----> 4\u001b[1;33m \u001b[0mdata_store_el\u001b[0m\u001b[1;33m.\u001b[0m\u001b[0mto_excel\u001b[0m\u001b[1;33m(\u001b[0m\u001b[0mout_path\u001b[0m\u001b[1;33m)\u001b[0m\u001b[1;33m\u001b[0m\u001b[1;33m\u001b[0m\u001b[0m\n\u001b[0m",
      "\u001b[1;31mNameError\u001b[0m: name 'data_store_el' is not defined"
     ]
    }
   ],
   "source": [
    "# Вывод в Excel\n",
    "out_path = r'C://Users/Sergey.Miklovda/Desktop/WORK_MATERIALS/VAE/VAE_2021/Valunistoe_EM.xlsx'\n",
    "#input(\"Введите путь к файлу вывода__\")\n",
    "data_store_el.to_excel(out_path)"
   ]
  },
  {
   "cell_type": "code",
   "execution_count": 42,
   "id": "4295ffde",
   "metadata": {
    "ExecuteTime": {
     "end_time": "2022-01-12T07:17:47.235467Z",
     "start_time": "2022-01-12T07:17:47.215465Z"
    }
   },
   "outputs": [
    {
     "data": {
      "text/plain": [
       "'\\nmu2 = float(gmm.means_[2])\\nsigma2 = float(gmm.covariances_[2])\\ns2 = np.random.normal(mu2, sigma2, 10000)\\ns22 = np.random.normal(mu1, sigma1, 10000)\\n\\nmu3 = float(gmm.means_[3])\\nsigma3 = float(gmm.covariances_[3])\\ns3 = np.random.normal(mu3, sigma3, 100000)\\ns33 = np.random.normal(mu1, sigma1, 100000)'"
      ]
     },
     "execution_count": 42,
     "metadata": {},
     "output_type": "execute_result"
    }
   ],
   "source": [
    "mu0 = float(gmm.means_[0])\n",
    "sigma0 = float(gmm.covariances_[0])\n",
    "s0 = np.random.normal(mu0, sigma0, 10000).T\n",
    "s00 = np.random.normal(mu0, sigma0, 10000).T\n",
    "\n",
    "mu1 = float(gmm.means_[1])\n",
    "sigma1 = float(gmm.covariances_[1])\n",
    "s1 = np.random.normal(mu1, sigma1, 10000)\n",
    "s11 = np.random.normal(mu1, sigma1, 10000)\n",
    "\n",
    "\"\"\"\n",
    "mu2 = float(gmm.means_[2])\n",
    "sigma2 = float(gmm.covariances_[2])\n",
    "s2 = np.random.normal(mu2, sigma2, 10000)\n",
    "s22 = np.random.normal(mu1, sigma1, 10000)\n",
    "\n",
    "mu3 = float(gmm.means_[3])\n",
    "sigma3 = float(gmm.covariances_[3])\n",
    "s3 = np.random.normal(mu3, sigma3, 100000)\n",
    "s33 = np.random.normal(mu1, sigma1, 100000)\"\"\""
   ]
  },
  {
   "cell_type": "code",
   "execution_count": 43,
   "id": "e731d91a",
   "metadata": {
    "ExecuteTime": {
     "end_time": "2022-01-12T07:17:50.600857Z",
     "start_time": "2022-01-12T07:17:50.386239Z"
    }
   },
   "outputs": [
    {
     "data": {
      "image/png": "[encoded data removed]",
      "text/plain": [
       "<Figure size 1152x648 with 2 Axes>"
      ]
     },
     "metadata": {},
     "output_type": "display_data"
    }
   ],
   "source": [
    "#mean = gmm.means_[1]\n",
    "#cov = gmm.covariances_[1]\n",
    "#x,y = np.random.multivariate_normal(mean, cov, 1000).T\n",
    "plt.cm.PRGn_r\n",
    "plt.hist2d(s0,s00,bins=100, cmap='PRGn_r')\n",
    "#plt.hist2d(s1,s11,bins=100, cmap='PRGn_r')\n",
    "cb = plt.colorbar()\n",
    "cb.set_label('количесвто в интервале')"
   ]
  },
  {
   "cell_type": "markdown",
   "id": "6919a75c",
   "metadata": {},
   "source": [
    "# Анализ EM кластеризации на несколько элементов (без расчета целевого массива r_target)\n",
    "\n"
   ]
  },
  {
   "cell_type": "code",
   "execution_count": 3,
   "id": "6309b959",
   "metadata": {
    "ExecuteTime": {
     "end_time": "2022-01-12T11:59:41.493746Z",
     "start_time": "2022-01-12T11:59:41.489784Z"
    }
   },
   "outputs": [],
   "source": [
    "data_store = data_store0"
   ]
  },
  {
   "cell_type": "markdown",
   "id": "2c02938a",
   "metadata": {},
   "source": [
    "## Вывод данных"
   ]
  },
  {
   "cell_type": "code",
   "execution_count": 4,
   "id": "b7a2226f",
   "metadata": {
    "ExecuteTime": {
     "end_time": "2022-01-12T11:59:45.582136Z",
     "start_time": "2022-01-12T11:59:45.536242Z"
    },
    "code_folding": [
     0
    ]
   },
   "outputs": [
    {
     "ename": "NameError",
     "evalue": "name 'Valunistoe_Store' is not defined",
     "output_type": "error",
     "traceback": [
      "\u001b[1;31m---------------------------------------------------------------------------\u001b[0m",
      "\u001b[1;31mNameError\u001b[0m                                 Traceback (most recent call last)",
      "\u001b[1;32m<ipython-input-4-81011ec0c0dc>\u001b[0m in \u001b[0;36m<module>\u001b[1;34m\u001b[0m\n\u001b[0;32m      1\u001b[0m \u001b[1;31m# Выводим данные из нужной таблицы в рабочий датафрейм\u001b[0m\u001b[1;33m\u001b[0m\u001b[1;33m\u001b[0m\u001b[1;33m\u001b[0m\u001b[0m\n\u001b[1;32m----> 2\u001b[1;33m \u001b[0mdata_store\u001b[0m \u001b[1;33m=\u001b[0m \u001b[0mValunistoe_Store\u001b[0m\u001b[1;33m[\u001b[0m\u001b[1;34m'202110'\u001b[0m\u001b[1;33m]\u001b[0m\u001b[1;33m\u001b[0m\u001b[1;33m\u001b[0m\u001b[0m\n\u001b[0m\u001b[0;32m      3\u001b[0m \u001b[0mdata_store\u001b[0m\u001b[1;33m[\u001b[0m\u001b[1;33m:\u001b[0m\u001b[1;36m3\u001b[0m\u001b[1;33m]\u001b[0m\u001b[1;33m\u001b[0m\u001b[1;33m\u001b[0m\u001b[0m\n",
      "\u001b[1;31mNameError\u001b[0m: name 'Valunistoe_Store' is not defined"
     ]
    }
   ],
   "source": [
    "# Выводим данные из нужной таблицы в рабочий датафрейм\n",
    "data_store = Valunistoe_Store['202110']\n",
    "data_store[:3]"
   ]
  },
  {
   "cell_type": "markdown",
   "id": "486ae771",
   "metadata": {},
   "source": [
    "## Препроцессинг"
   ]
  },
  {
   "cell_type": "markdown",
   "id": "ad1ef86e",
   "metadata": {},
   "source": [
    "### Выбор элементов для расчета"
   ]
  },
  {
   "cell_type": "code",
   "execution_count": 7,
   "id": "8d5239be",
   "metadata": {
    "ExecuteTime": {
     "end_time": "2022-01-12T12:01:05.987823Z",
     "start_time": "2022-01-12T12:01:05.926944Z"
    },
    "code_folding": []
   },
   "outputs": [
    {
     "name": "stdout",
     "output_type": "stream",
     "text": [
      "['X', 'Y', 'Au_rand']\n"
     ]
    },
    {
     "data": {
      "text/html": [
       "<div>\n",
       "<style scoped>\n",
       "    .dataframe tbody tr th:only-of-type {\n",
       "        vertical-align: middle;\n",
       "    }\n",
       "\n",
       "    .dataframe tbody tr th {\n",
       "        vertical-align: top;\n",
       "    }\n",
       "\n",
       "    .dataframe thead th {\n",
       "        text-align: right;\n",
       "    }\n",
       "</style>\n",
       "<table border=\"1\" class=\"dataframe\">\n",
       "  <thead>\n",
       "    <tr style=\"text-align: right;\">\n",
       "      <th></th>\n",
       "      <th>X</th>\n",
       "      <th>Y</th>\n",
       "      <th>Au_rand</th>\n",
       "    </tr>\n",
       "  </thead>\n",
       "  <tbody>\n",
       "    <tr>\n",
       "      <th>0</th>\n",
       "      <td>-152743.938126</td>\n",
       "      <td>1.067674e+06</td>\n",
       "      <td>0.071</td>\n",
       "    </tr>\n",
       "    <tr>\n",
       "      <th>1</th>\n",
       "      <td>-152743.613367</td>\n",
       "      <td>1.067674e+06</td>\n",
       "      <td>4.500</td>\n",
       "    </tr>\n",
       "    <tr>\n",
       "      <th>2</th>\n",
       "      <td>-152743.180354</td>\n",
       "      <td>1.067674e+06</td>\n",
       "      <td>5.000</td>\n",
       "    </tr>\n",
       "    <tr>\n",
       "      <th>3</th>\n",
       "      <td>-152742.747341</td>\n",
       "      <td>1.067674e+06</td>\n",
       "      <td>2.135</td>\n",
       "    </tr>\n",
       "    <tr>\n",
       "      <th>4</th>\n",
       "      <td>-152742.314329</td>\n",
       "      <td>1.067673e+06</td>\n",
       "      <td>0.007</td>\n",
       "    </tr>\n",
       "  </tbody>\n",
       "</table>\n",
       "</div>"
      ],
      "text/plain": [
       "               X             Y  Au_rand\n",
       "0 -152743.938126  1.067674e+06    0.071\n",
       "1 -152743.613367  1.067674e+06    4.500\n",
       "2 -152743.180354  1.067674e+06    5.000\n",
       "3 -152742.747341  1.067674e+06    2.135\n",
       "4 -152742.314329  1.067673e+06    0.007"
      ]
     },
     "execution_count": 7,
     "metadata": {},
     "output_type": "execute_result"
    }
   ],
   "source": [
    "# \n",
    "col = ['Hole-ID','Sample','From','X','Y','Au_rand']\n",
    "col_ = col[3:]\n",
    "print(col_ )\n",
    "data = data_store[col].dropna()\n",
    "data_= data[col_]\n",
    "data_.head()"
   ]
  },
  {
   "cell_type": "markdown",
   "id": "c203cd27",
   "metadata": {},
   "source": [
    "### Подготовка основных элементов (логарифмирование, изменение знаков и т.д.)"
   ]
  },
  {
   "cell_type": "code",
   "execution_count": 6,
   "id": "d2bfbf49",
   "metadata": {
    "ExecuteTime": {
     "end_time": "2022-01-12T12:00:41.779950Z",
     "start_time": "2022-01-12T12:00:41.734059Z"
    }
   },
   "outputs": [
    {
     "name": "stderr",
     "output_type": "stream",
     "text": [
      "C:\\Users\\Sergey.Miklovda\\Anaconda3\\lib\\site-packages\\pandas\\core\\arraylike.py:358: RuntimeWarning: invalid value encountered in log\n",
      "  result = getattr(ufunc, method)(*inputs, **kwargs)\n",
      "C:\\Users\\Sergey.Miklovda\\Anaconda3\\lib\\site-packages\\pandas\\core\\indexing.py:1843: SettingWithCopyWarning: \n",
      "A value is trying to be set on a copy of a slice from a DataFrame.\n",
      "Try using .loc[row_indexer,col_indexer] = value instead\n",
      "\n",
      "See the caveats in the documentation: https://pandas.pydata.org/pandas-docs/stable/user_guide/indexing.html#returning-a-view-versus-a-copy\n",
      "  self.obj[item_labels[indexer[info_axis]]] = value\n"
     ]
    },
    {
     "data": {
      "text/html": [
       "<div>\n",
       "<style scoped>\n",
       "    .dataframe tbody tr th:only-of-type {\n",
       "        vertical-align: middle;\n",
       "    }\n",
       "\n",
       "    .dataframe tbody tr th {\n",
       "        vertical-align: top;\n",
       "    }\n",
       "\n",
       "    .dataframe thead th {\n",
       "        text-align: right;\n",
       "    }\n",
       "</style>\n",
       "<table border=\"1\" class=\"dataframe\">\n",
       "  <thead>\n",
       "    <tr style=\"text-align: right;\">\n",
       "      <th></th>\n",
       "      <th>X</th>\n",
       "      <th>Y</th>\n",
       "      <th>Au_rand</th>\n",
       "    </tr>\n",
       "  </thead>\n",
       "  <tbody>\n",
       "    <tr>\n",
       "      <th>count</th>\n",
       "      <td>0.0</td>\n",
       "      <td>184278.000000</td>\n",
       "      <td>184278.000000</td>\n",
       "    </tr>\n",
       "    <tr>\n",
       "      <th>mean</th>\n",
       "      <td>NaN</td>\n",
       "      <td>13.881254</td>\n",
       "      <td>-1.457807</td>\n",
       "    </tr>\n",
       "    <tr>\n",
       "      <th>std</th>\n",
       "      <td>NaN</td>\n",
       "      <td>0.000806</td>\n",
       "      <td>1.862004</td>\n",
       "    </tr>\n",
       "    <tr>\n",
       "      <th>min</th>\n",
       "      <td>NaN</td>\n",
       "      <td>13.878313</td>\n",
       "      <td>-6.907755</td>\n",
       "    </tr>\n",
       "    <tr>\n",
       "      <th>25%</th>\n",
       "      <td>NaN</td>\n",
       "      <td>13.880579</td>\n",
       "      <td>-2.718101</td>\n",
       "    </tr>\n",
       "    <tr>\n",
       "      <th>50%</th>\n",
       "      <td>NaN</td>\n",
       "      <td>13.881059</td>\n",
       "      <td>-1.560648</td>\n",
       "    </tr>\n",
       "    <tr>\n",
       "      <th>75%</th>\n",
       "      <td>NaN</td>\n",
       "      <td>13.881789</td>\n",
       "      <td>-0.287682</td>\n",
       "    </tr>\n",
       "    <tr>\n",
       "      <th>max</th>\n",
       "      <td>NaN</td>\n",
       "      <td>13.882992</td>\n",
       "      <td>7.600902</td>\n",
       "    </tr>\n",
       "  </tbody>\n",
       "</table>\n",
       "</div>"
      ],
      "text/plain": [
       "         X              Y        Au_rand\n",
       "count  0.0  184278.000000  184278.000000\n",
       "mean   NaN      13.881254      -1.457807\n",
       "std    NaN       0.000806       1.862004\n",
       "min    NaN      13.878313      -6.907755\n",
       "25%    NaN      13.880579      -2.718101\n",
       "50%    NaN      13.881059      -1.560648\n",
       "75%    NaN      13.881789      -0.287682\n",
       "max    NaN      13.882992       7.600902"
      ]
     },
     "execution_count": 6,
     "metadata": {},
     "output_type": "execute_result"
    }
   ],
   "source": [
    "# логарифмирование основного элемента\n",
    "#data.loc[:, el]= np.log(data[el] * 100) # Логаоифмируем по значениям увеличенным на 100\n",
    "#data.loc[:, 'X'] = data['X'] * -1      # Делаем значения положительными\n",
    "\n",
    "for i in data_.columns:\n",
    "    if(data_[i].dtype == 'float64' or data_[i].dtype == 'float32'):\n",
    "        data_.loc[:, i]= np.log(data_[i])# * 1000\n",
    "\n",
    "data_.describe()"
   ]
  },
  {
   "cell_type": "markdown",
   "id": "0e9c28c5",
   "metadata": {},
   "source": [
    "### Препроцессинг (MinMaxScaller)"
   ]
  },
  {
   "cell_type": "code",
   "execution_count": 8,
   "id": "d7f71796",
   "metadata": {
    "ExecuteTime": {
     "end_time": "2022-01-12T12:01:17.024785Z",
     "start_time": "2022-01-12T12:01:17.015834Z"
    }
   },
   "outputs": [
    {
     "name": "stdout",
     "output_type": "stream",
     "text": [
      "[[2.69261458e-01 5.72313903e-01 3.50000175e-05]\n",
      " [2.69354506e-01 5.72276354e-01 2.24950112e-03]\n",
      " [2.69478569e-01 5.72226288e-01 2.49950125e-03]\n",
      " ...\n",
      " [3.01275778e-01 7.71222678e-01 3.35000168e-05]\n",
      " [3.01062352e-01 7.71227233e-01 3.30000165e-05]\n",
      " [3.00848926e-01 7.71231788e-01 4.10000205e-05]]\n"
     ]
    }
   ],
   "source": [
    "from sklearn import preprocessing\n",
    "#dataNorm = preprocessing.MinMaxScaler().fit_transform(data_.values) #.values\n",
    "dataNormPrepr = preprocessing.MinMaxScaler()\n",
    "dataNormPrepr.fit(data_.values)\n",
    "dataNorm = dataNormPrepr.transform(data_.values)\n",
    "print(dataNorm)\n",
    "\n",
    "\n",
    "#data_0 = dataNormPrepr.inverse_transform(dataNorm)\n",
    "#data_0"
   ]
  },
  {
   "cell_type": "code",
   "execution_count": null,
   "id": "1fee2a33",
   "metadata": {},
   "outputs": [],
   "source": [
    "# Вывод в Excel\n",
    "out_path = r'C://Users/Sergey.Miklovda/Desktop/WORK_MATERIALS/VAE/VAE_2021/Valunistoe_preprocessing3.xlsx'\n",
    "#input(\"Введите путь к файлу вывода__\")\n",
    "dn = pd.DataFrame(dataNorm)\n",
    "dn.to_excel(out_path)"
   ]
  },
  {
   "cell_type": "markdown",
   "id": "583ef7f4",
   "metadata": {},
   "source": [
    "## Features matrix (n_samples, n_features) Матрица признаков"
   ]
  },
  {
   "cell_type": "code",
   "execution_count": 9,
   "id": "b0a59057",
   "metadata": {
    "ExecuteTime": {
     "end_time": "2022-01-12T12:01:38.540224Z",
     "start_time": "2022-01-12T12:01:38.536198Z"
    }
   },
   "outputs": [
    {
     "data": {
      "text/plain": [
       "(184278, 3)"
      ]
     },
     "execution_count": 9,
     "metadata": {},
     "output_type": "execute_result"
    }
   ],
   "source": [
    "X_data = dataNorm\n",
    "\n",
    "#X_data = dataNorm.drop(['Au', 'cat', 'Au_log'], axis=1)\n",
    "X_data.shape"
   ]
  },
  {
   "cell_type": "markdown",
   "id": "962d151d",
   "metadata": {},
   "source": [
    "## Расчет количества кластеров"
   ]
  },
  {
   "cell_type": "markdown",
   "id": "902f2427",
   "metadata": {},
   "source": [
    "### Подготовка данных на основе n - случайной выборки из матрицы признаков"
   ]
  },
  {
   "cell_type": "code",
   "execution_count": 10,
   "id": "b008395e",
   "metadata": {
    "ExecuteTime": {
     "end_time": "2022-01-12T12:03:50.295680Z",
     "start_time": "2022-01-12T12:01:44.016395Z"
    }
   },
   "outputs": [],
   "source": [
    "n_samlpes = 50000\n",
    "data_dist = pdist(X_data[np.random.randint(0, len(X_data), n_samlpes)], 'euclidean') #X_data[50000:100000,]  np.random.randint(0, len(X_data), n))\n",
    "data_linkage = linkage(data_dist[~np.isnan(data_dist)], method = 'average')"
   ]
  },
  {
   "cell_type": "markdown",
   "id": "d012e48e",
   "metadata": {},
   "source": [
    "### Графическое отображение кривых количества кластеров"
   ]
  },
  {
   "cell_type": "code",
   "execution_count": 11,
   "id": "cac97045",
   "metadata": {
    "ExecuteTime": {
     "end_time": "2022-01-12T12:03:56.465064Z",
     "start_time": "2022-01-12T12:03:56.303647Z"
    }
   },
   "outputs": [
    {
     "data": {
      "image/png": "[encoded data removed]",
      "text/plain": [
       "<Figure size 1152x648 with 1 Axes>"
      ]
     },
     "metadata": {},
     "output_type": "display_data"
    },
    {
     "name": "stdout",
     "output_type": "stream",
     "text": [
      "Рекомендованное количество класстеров:  3\n"
     ]
    }
   ],
   "source": [
    "last = data_linkage[-10:, 2]\n",
    "last_rev = last[::-1]\n",
    "idxs = np.arange(1, len(last) + 1)\n",
    "plt.plot(idxs, last_rev)\n",
    "\n",
    "acceleration = np.diff(last, 2)\n",
    "acceleration_rev = acceleration[::-1]\n",
    "plt.plot(idxs[:-2] + 1, acceleration_rev)\n",
    "plt.show()\n",
    "k = acceleration_rev.argmax() + 2\n",
    "print(\"Рекомендованное количество класстеров: \", k)\n",
    "# Желтая - динамика изменения расстояния между кластерами\n",
    "# Синяя - абсолютное изменение расстояния между кластерами"
   ]
  },
  {
   "cell_type": "markdown",
   "id": "500dbe4b",
   "metadata": {},
   "source": [
    "### Графическое отображение количества кластеров расчитанных методом AIC, BIC"
   ]
  },
  {
   "cell_type": "code",
   "execution_count": 12,
   "id": "fa00f0c6",
   "metadata": {
    "ExecuteTime": {
     "end_time": "2022-01-12T12:06:42.959469Z",
     "start_time": "2022-01-12T12:04:19.819403Z"
    }
   },
   "outputs": [],
   "source": [
    "# ОБУЧЕНИЕ МОДЕЛИ НА 1-10 КОМПОНЕНТАХ\n",
    "k_arr = np.arange(20) + 1\n",
    "\n",
    "models = [\n",
    "GaussianMixture(n_components=k, covariance_type='full', random_state=0).fit(X_data)\n",
    "for k in k_arr\n",
    "]"
   ]
  },
  {
   "cell_type": "code",
   "execution_count": 13,
   "id": "780c1c37",
   "metadata": {
    "ExecuteTime": {
     "end_time": "2022-01-12T12:07:24.600377Z",
     "start_time": "2022-01-12T12:07:17.431765Z"
    }
   },
   "outputs": [
    {
     "data": {
      "text/plain": [
       "<matplotlib.legend.Legend at 0x2cbde705e80>"
      ]
     },
     "execution_count": 13,
     "metadata": {},
     "output_type": "execute_result"
    },
    {
     "data": {
      "image/png": "[encoded data removed]",
      "text/plain": [
       "<Figure size 1152x648 with 1 Axes>"
      ]
     },
     "metadata": {},
     "output_type": "display_data"
    }
   ],
   "source": [
    "# Compute metrics to determine best hyperparameter\n",
    "AIC = [m.aic(X_data) for m in models]\n",
    "BIC = [m.bic(X_data) for m in models]\n",
    "# Plot these metrics\n",
    "plt.plot(k_arr, AIC, label='AIC')\n",
    "plt.plot(k_arr, BIC, label='BIC')\n",
    "plt.xlabel('Количество кластеров ($k$)')\n",
    "plt.legend()"
   ]
  },
  {
   "cell_type": "markdown",
   "id": "139fbd02",
   "metadata": {},
   "source": [
    "## Обучение модели (по расчитанным компонентам) и предикт"
   ]
  },
  {
   "cell_type": "code",
   "execution_count": null,
   "id": "694e4432",
   "metadata": {},
   "outputs": [],
   "source": [
    "n_komponents= 7 # Ранее определенное количесвто компонентов \n",
    "\n",
    "gmm = GaussianMixture(n_components=n_komponents)\n",
    "gmm.fit(X_data)\n",
    "\n",
    "#data.loc[:,'EM_Cluster'] = gmm.predict(X_data)\n",
    "data.loc[:,'EM_3d_Cluster'] = gmm.predict(X_data)\n",
    "data[:2]"
   ]
  },
  {
   "cell_type": "code",
   "execution_count": null,
   "id": "16b19927",
   "metadata": {},
   "outputs": [],
   "source": [
    "for n in range(0, n_komponents):\n",
    "    print(\"means_\" , n , gmm.means_[n].round(3),)#[3:].round(3)"
   ]
  },
  {
   "cell_type": "code",
   "execution_count": null,
   "id": "40e52ea8",
   "metadata": {},
   "outputs": [],
   "source": [
    "# Вывод в Excel\n",
    "out_path = r'C://Users/Sergey.Miklovda/Desktop/WORK_MATERIALS/VAE/VAE_2021/Valunistoe_EM_2d(7_clusters).xlsx'\n",
    "#input(\"Введите путь к файлу вывода__\")\n",
    "data.to_excel(out_path)"
   ]
  },
  {
   "cell_type": "markdown",
   "id": "b0475740",
   "metadata": {},
   "source": [
    "## Кластеризация закончена"
   ]
  },
  {
   "cell_type": "markdown",
   "id": "21f5ccdf",
   "metadata": {},
   "source": [
    "# дополнительные работы"
   ]
  },
  {
   "cell_type": "markdown",
   "id": "134675fa",
   "metadata": {},
   "source": [
    "## Работа с целевым массивом (target) категориальных данных"
   ]
  },
  {
   "cell_type": "markdown",
   "id": "49c67025",
   "metadata": {},
   "source": [
    "### Создание столбца категорий"
   ]
  },
  {
   "cell_type": "code",
   "execution_count": null,
   "id": "804e84d8",
   "metadata": {
    "code_folding": []
   },
   "outputs": [],
   "source": [
    "# Разделение по содержанию\n",
    "# добавляем имена для групп\n",
    "ranges = [0.0005,1.6, 2.1, 4000]  #1.2, \n",
    "labels = ['Убогие', 'Бедные',  'Балансовые'] #'Средние',\n",
    "cat_col = pd.cut(data[el], ranges, labels=labels)\n",
    "#d= data[col]\n",
    "data['cat'] = cat_col \n",
    "data[:3]"
   ]
  },
  {
   "cell_type": "markdown",
   "id": "4dec0327",
   "metadata": {},
   "source": [
    "## Генерация новых значений на основе расчитанных кластеров"
   ]
  },
  {
   "cell_type": "markdown",
   "id": "03fa6ac0",
   "metadata": {},
   "source": [
    "### Создание новых значений"
   ]
  },
  {
   "cell_type": "code",
   "execution_count": null,
   "id": "7e058d24",
   "metadata": {
    "code_folding": []
   },
   "outputs": [],
   "source": [
    "# Возможная генерация новых значений по расчитанному алгоритму\n",
    "n= 100000\n",
    "data_n = gmm.sample(n_samples = n)\n",
    "data_new =list(data_n)\n",
    "#print(data_new[:2])\n",
    "data_new_1 = data_new[0:n][0]\n",
    "data_new_2 = data_new[0:n][1]\n",
    "print('data_new_1 ____', data_new_1)\n",
    "print('data_new_2 ____', data_new_2)\n"
   ]
  },
  {
   "cell_type": "markdown",
   "id": "23cc085c",
   "metadata": {},
   "source": [
    "### Инверсия значений в первоначальные данные"
   ]
  },
  {
   "cell_type": "code",
   "execution_count": null,
   "id": "c713046f",
   "metadata": {
    "code_folding": []
   },
   "outputs": [],
   "source": [
    "# Инверсия значений в первоначальные данные и добавление столбца кластеров\n",
    "\n",
    "data_inv = np.column_stack([dataNormPrepr.inverse_transform(data_new_1), data_new_2])\n",
    "print(data_inv[:2])"
   ]
  },
  {
   "cell_type": "markdown",
   "id": "61fe91bb",
   "metadata": {},
   "source": [
    "### Объединение инверсированных данных с исходными"
   ]
  },
  {
   "cell_type": "code",
   "execution_count": null,
   "id": "c00c553a",
   "metadata": {
    "code_folding": []
   },
   "outputs": [],
   "source": [
    "# Подготовка новых данных к объединению с data\n",
    "data_invers = pd.DataFrame(data_inv) \n",
    "\n",
    "data_invers.rename(columns= {0: 'Au', 1 : 'Ag', 2 : 'Zn', 3 : 'Pb', 4 : 'EM_Cluster'}, inplace=True ) \n",
    "\n",
    "data_invers.insert(0, 'ОБЪЕКТ', 'NEW')\n",
    "data_invers.insert(1, 'ПРОБА_НОМЕР', np.random.randint(0, n, n))\n",
    "#data_invers.insert(5, el,np.nan )\n",
    "data_invers[:2]\n",
    "\n"
   ]
  },
  {
   "cell_type": "code",
   "execution_count": null,
   "id": "6db8997b",
   "metadata": {},
   "outputs": [],
   "source": [
    "# ОБъединение с дата\n",
    "\n",
    "data_concat = pd.concat([data, data_invers])\n",
    "data_concat.shape"
   ]
  },
  {
   "cell_type": "code",
   "execution_count": null,
   "id": "4d7b6b00",
   "metadata": {},
   "outputs": [],
   "source": [
    "data_concat[::20]\n",
    "data_concat.describe()"
   ]
  },
  {
   "cell_type": "code",
   "execution_count": null,
   "id": "c35c638c",
   "metadata": {},
   "outputs": [],
   "source": [
    "el = 'Au'\n",
    "\n",
    "X= data_concat[el]\n",
    "kwargs = dict(histtype= 'stepfilled', alpha=0.3,  bins=50) #normed= True,\n",
    "plt.hist(np.log(X), **kwargs) #np.log(X)"
   ]
  },
  {
   "cell_type": "markdown",
   "id": "59b1a537",
   "metadata": {},
   "source": [
    "## Метод Главных компонент (PCA - principal component analysis)"
   ]
  },
  {
   "cell_type": "code",
   "execution_count": null,
   "id": "42da53ed",
   "metadata": {},
   "outputs": [],
   "source": [
    "from sklearn.decomposition import PCA  # 1. Choose the model class"
   ]
  },
  {
   "cell_type": "markdown",
   "id": "75ca7c5d",
   "metadata": {},
   "source": [
    "### Выбор количества компонент"
   ]
  },
  {
   "cell_type": "code",
   "execution_count": null,
   "id": "ab0956a7",
   "metadata": {},
   "outputs": [],
   "source": [
    "pca = PCA(0.90).fit(X_data)\n",
    "n_components = pca.n_components_\n",
    "n_components\n"
   ]
  },
  {
   "cell_type": "markdown",
   "id": "d6bc9716",
   "metadata": {},
   "source": [
    "### Отображение количества компонент"
   ]
  },
  {
   "cell_type": "code",
   "execution_count": null,
   "id": "ab88cbfc",
   "metadata": {
    "code_folding": []
   },
   "outputs": [],
   "source": [
    "#pca = PCA(0.9).fit(X_data)\n",
    "plt.plot(np.cumsum(pca.explained_variance_ratio_))\n",
    "plt.xlabel('количество компонент')\n",
    "plt.ylabel('интегральная объяснимая дисперсия');"
   ]
  },
  {
   "cell_type": "markdown",
   "id": "c72f6199",
   "metadata": {},
   "source": [
    "### PCA преобразование"
   ]
  },
  {
   "cell_type": "code",
   "execution_count": null,
   "id": "acb56b71",
   "metadata": {
    "code_folding": []
   },
   "outputs": [],
   "source": [
    "#from sklearn.decomposition import PCA  # 1. Choose the model class\n",
    "pca = PCA(n_components=n_components)            # 2. Instantiate the model with hyperparameters\n",
    "pca.fit(X_data)                      # 3. Fit to data. Notice y is not specified!\n",
    "X_pca = pca.transform(X_data)         # 4. Transform the data to two dimensions\n",
    "\n",
    "print(\"Исходная форма:  \", X_data.shape)\n",
    "print(\"Трансформированная форма:  \", X_pca.shape)\n",
    "print('Исходные данные  ', X_data[:3])\n",
    "print('Преобразованные данные  ', X_pca[:3])\n"
   ]
  },
  {
   "cell_type": "markdown",
   "id": "ac86bbd3",
   "metadata": {},
   "source": [
    "### PCA Инверсия "
   ]
  },
  {
   "cell_type": "code",
   "execution_count": null,
   "id": "84610b87",
   "metadata": {},
   "outputs": [],
   "source": [
    "X_invPCA = pca.inverse_transform(X_pca)\n",
    "print(X_invPCA[:3])"
   ]
  },
  {
   "cell_type": "code",
   "execution_count": null,
   "id": "1e33f50b",
   "metadata": {},
   "outputs": [],
   "source": []
  },
  {
   "cell_type": "markdown",
   "id": "026d7c68",
   "metadata": {},
   "source": [
    "# Экспорт в Excel"
   ]
  },
  {
   "cell_type": "code",
   "execution_count": null,
   "id": "1998535a",
   "metadata": {},
   "outputs": [],
   "source": [
    "# Вывод в Excel\n",
    "out_path = r'C:\\Users\\Sergey.Miklovda\\Desktop\\WORK_MATERIALS\\NSH\\MICROMINE_PROJECTS\\NSH_clastering_and_analitics\\DB\\IPYNB\\data_4el_0602.xlsx'\n",
    "#input(\"Введите путь к файлу вывода__\")\n",
    "data.to_excel(out_path)\n",
    "#data_concat.to_excel(out_path)"
   ]
  },
  {
   "cell_type": "code",
   "execution_count": null,
   "id": "280363b0",
   "metadata": {},
   "outputs": [],
   "source": []
  }
 ],
 "metadata": {
  "kernelspec": {
   "display_name": "Python 3",
   "language": "python",
   "name": "python3"
  },
  "language_info": {
   "codemirror_mode": {
    "name": "ipython",
    "version": 3
   },
   "file_extension": ".py",
   "mimetype": "text/x-python",
   "name": "python",
   "nbconvert_exporter": "python",
   "pygments_lexer": "ipython3",
   "version": "3.8.8"
  },
  "nbTranslate": {
   "displayLangs": [
    "*"
   ],
   "hotkey": "alt-t",
   "langInMainMenu": true,
   "sourceLang": "en",
   "targetLang": "fr",
   "useGoogleTranslate": true
  },
  "toc": {
   "base_numbering": 1,
   "nav_menu": {},
   "number_sections": true,
   "sideBar": true,
   "skip_h1_title": false,
   "title_cell": "Table of Contents",
   "title_sidebar": "Contents",
   "toc_cell": false,
   "toc_position": {
    "height": "calc(100% - 180px)",
    "left": "10px",
    "top": "150px",
    "width": "511px"
   },
   "toc_section_display": true,
   "toc_window_display": true
  },
  "varInspector": {
   "cols": {
    "lenName": 16,
    "lenType": 16,
    "lenVar": 40
   },
   "kernels_config": {
    "python": {
     "delete_cmd_postfix": "",
     "delete_cmd_prefix": "del ",
     "library": "var_list.py",
     "varRefreshCmd": "print(var_dic_list())"
    },
    "r": {
     "delete_cmd_postfix": ") ",
     "delete_cmd_prefix": "rm(",
     "library": "var_list.r",
     "varRefreshCmd": "cat(var_dic_list()) "
    }
   },
   "types_to_exclude": [
    "module",
    "function",
    "builtin_function_or_method",
    "instance",
    "_Feature"
   ],
   "window_display": false
  }
 },
 "nbformat": 4,
 "nbformat_minor": 5
}
